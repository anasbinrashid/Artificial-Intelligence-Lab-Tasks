{
  "cells": [
    {
      "cell_type": "markdown",
      "metadata": {
        "id": "h8bf5rpCNw8J"
      },
      "source": [
        "# **Importing Required Libraries**"
      ]
    },
    {
      "cell_type": "code",
      "execution_count": 1,
      "metadata": {
        "id": "YB3-7g7QNwHI"
      },
      "outputs": [],
      "source": [
        "import pandas as pd\n",
        "import seaborn as sns\n",
        "import matplotlib.pyplot as plt\n",
        "import numpy as np\n",
        "from sklearn.preprocessing import LabelEncoder,OneHotEncoder\n",
        "from sklearn.impute import SimpleImputer"
      ]
    },
    {
      "cell_type": "markdown",
      "metadata": {
        "id": "IgnUOrf7N-T7"
      },
      "source": [
        "# **Step 1 : Data Loading**"
      ]
    },
    {
      "cell_type": "code",
      "execution_count": 3,
      "metadata": {
        "id": "B4i7sH8kN1WN"
      },
      "outputs": [],
      "source": [
        "url = \"https://archive.ics.uci.edu/ml/machine-learning-databases/adult/adult.data\"\n",
        "df = pd.read_csv(url, header=None, names=['age', 'workclass', 'fnlwgt', 'education', 'education-num', 'marital-status',\n",
        "           'occupation', 'relationship', 'race', 'sex', 'capital-gain',\n",
        "           'capital-loss', 'hours-per-week', 'native-country', 'income']\n",
        ", na_values=' ?', skipinitialspace=True, delimiter=',')"
      ]
    },
    {
      "cell_type": "code",
      "execution_count": 4,
      "metadata": {
        "colab": {
          "base_uri": "https://localhost:8080/",
          "height": 293
        },
        "id": "iBm47arNOHK8",
        "outputId": "d1f6cb28-bb59-4e7d-e8e3-771dfa1b97c8"
      },
      "outputs": [
        {
          "data": {
            "text/html": [
              "<div>\n",
              "<style scoped>\n",
              "    .dataframe tbody tr th:only-of-type {\n",
              "        vertical-align: middle;\n",
              "    }\n",
              "\n",
              "    .dataframe tbody tr th {\n",
              "        vertical-align: top;\n",
              "    }\n",
              "\n",
              "    .dataframe thead th {\n",
              "        text-align: right;\n",
              "    }\n",
              "</style>\n",
              "<table border=\"1\" class=\"dataframe\">\n",
              "  <thead>\n",
              "    <tr style=\"text-align: right;\">\n",
              "      <th></th>\n",
              "      <th>age</th>\n",
              "      <th>workclass</th>\n",
              "      <th>fnlwgt</th>\n",
              "      <th>education</th>\n",
              "      <th>education-num</th>\n",
              "      <th>marital-status</th>\n",
              "      <th>occupation</th>\n",
              "      <th>relationship</th>\n",
              "      <th>race</th>\n",
              "      <th>sex</th>\n",
              "      <th>capital-gain</th>\n",
              "      <th>capital-loss</th>\n",
              "      <th>hours-per-week</th>\n",
              "      <th>native-country</th>\n",
              "      <th>income</th>\n",
              "    </tr>\n",
              "  </thead>\n",
              "  <tbody>\n",
              "    <tr>\n",
              "      <th>0</th>\n",
              "      <td>39</td>\n",
              "      <td>State-gov</td>\n",
              "      <td>77516</td>\n",
              "      <td>Bachelors</td>\n",
              "      <td>13</td>\n",
              "      <td>Never-married</td>\n",
              "      <td>Adm-clerical</td>\n",
              "      <td>Not-in-family</td>\n",
              "      <td>White</td>\n",
              "      <td>Male</td>\n",
              "      <td>2174</td>\n",
              "      <td>0</td>\n",
              "      <td>40</td>\n",
              "      <td>United-States</td>\n",
              "      <td>&lt;=50K</td>\n",
              "    </tr>\n",
              "    <tr>\n",
              "      <th>1</th>\n",
              "      <td>50</td>\n",
              "      <td>Self-emp-not-inc</td>\n",
              "      <td>83311</td>\n",
              "      <td>Bachelors</td>\n",
              "      <td>13</td>\n",
              "      <td>Married-civ-spouse</td>\n",
              "      <td>Exec-managerial</td>\n",
              "      <td>Husband</td>\n",
              "      <td>White</td>\n",
              "      <td>Male</td>\n",
              "      <td>0</td>\n",
              "      <td>0</td>\n",
              "      <td>13</td>\n",
              "      <td>United-States</td>\n",
              "      <td>&lt;=50K</td>\n",
              "    </tr>\n",
              "    <tr>\n",
              "      <th>2</th>\n",
              "      <td>38</td>\n",
              "      <td>Private</td>\n",
              "      <td>215646</td>\n",
              "      <td>HS-grad</td>\n",
              "      <td>9</td>\n",
              "      <td>Divorced</td>\n",
              "      <td>Handlers-cleaners</td>\n",
              "      <td>Not-in-family</td>\n",
              "      <td>White</td>\n",
              "      <td>Male</td>\n",
              "      <td>0</td>\n",
              "      <td>0</td>\n",
              "      <td>40</td>\n",
              "      <td>United-States</td>\n",
              "      <td>&lt;=50K</td>\n",
              "    </tr>\n",
              "    <tr>\n",
              "      <th>3</th>\n",
              "      <td>53</td>\n",
              "      <td>Private</td>\n",
              "      <td>234721</td>\n",
              "      <td>11th</td>\n",
              "      <td>7</td>\n",
              "      <td>Married-civ-spouse</td>\n",
              "      <td>Handlers-cleaners</td>\n",
              "      <td>Husband</td>\n",
              "      <td>Black</td>\n",
              "      <td>Male</td>\n",
              "      <td>0</td>\n",
              "      <td>0</td>\n",
              "      <td>40</td>\n",
              "      <td>United-States</td>\n",
              "      <td>&lt;=50K</td>\n",
              "    </tr>\n",
              "    <tr>\n",
              "      <th>4</th>\n",
              "      <td>28</td>\n",
              "      <td>Private</td>\n",
              "      <td>338409</td>\n",
              "      <td>Bachelors</td>\n",
              "      <td>13</td>\n",
              "      <td>Married-civ-spouse</td>\n",
              "      <td>Prof-specialty</td>\n",
              "      <td>Wife</td>\n",
              "      <td>Black</td>\n",
              "      <td>Female</td>\n",
              "      <td>0</td>\n",
              "      <td>0</td>\n",
              "      <td>40</td>\n",
              "      <td>Cuba</td>\n",
              "      <td>&lt;=50K</td>\n",
              "    </tr>\n",
              "  </tbody>\n",
              "</table>\n",
              "</div>"
            ],
            "text/plain": [
              "   age         workclass  fnlwgt  education  education-num  \\\n",
              "0   39         State-gov   77516  Bachelors             13   \n",
              "1   50  Self-emp-not-inc   83311  Bachelors             13   \n",
              "2   38           Private  215646    HS-grad              9   \n",
              "3   53           Private  234721       11th              7   \n",
              "4   28           Private  338409  Bachelors             13   \n",
              "\n",
              "       marital-status         occupation   relationship   race     sex  \\\n",
              "0       Never-married       Adm-clerical  Not-in-family  White    Male   \n",
              "1  Married-civ-spouse    Exec-managerial        Husband  White    Male   \n",
              "2            Divorced  Handlers-cleaners  Not-in-family  White    Male   \n",
              "3  Married-civ-spouse  Handlers-cleaners        Husband  Black    Male   \n",
              "4  Married-civ-spouse     Prof-specialty           Wife  Black  Female   \n",
              "\n",
              "   capital-gain  capital-loss  hours-per-week native-country income  \n",
              "0          2174             0              40  United-States  <=50K  \n",
              "1             0             0              13  United-States  <=50K  \n",
              "2             0             0              40  United-States  <=50K  \n",
              "3             0             0              40  United-States  <=50K  \n",
              "4             0             0              40           Cuba  <=50K  "
            ]
          },
          "execution_count": 4,
          "metadata": {},
          "output_type": "execute_result"
        }
      ],
      "source": [
        "df.head()"
      ]
    },
    {
      "cell_type": "markdown",
      "metadata": {
        "id": "zrTpgE7OVHUr"
      },
      "source": [
        "# **Step 2 : Initial Data Inspection and Cleaning**"
      ]
    },
    {
      "cell_type": "markdown",
      "metadata": {
        "id": "b5EQb648GwH_"
      },
      "source": [
        "### Step 2.1 : Display dataset information and preview data\n",
        "\n",
        "**Preview Data:** Using head() lets students see the actual records, which is critical for understanding the context of the data.\n",
        "\n",
        "**Dataset Info:** The info() function shows non-null counts and datatypes, which helps in quickly spotting missing values or incorrect data formats.\n",
        "\n"
      ]
    },
    {
      "cell_type": "code",
      "execution_count": 8,
      "metadata": {
        "colab": {
          "base_uri": "https://localhost:8080/"
        },
        "id": "iWouYpAbOwem",
        "outputId": "b468ea81-cae4-441b-e441-eecaa177031e"
      },
      "outputs": [
        {
          "name": "stdout",
          "output_type": "stream",
          "text": [
            "\n",
            "First 5 Rows: \n",
            "   age         workclass  fnlwgt  education  education-num  \\\n",
            "0   39         State-gov   77516  Bachelors             13   \n",
            "1   50  Self-emp-not-inc   83311  Bachelors             13   \n",
            "2   38           Private  215646    HS-grad              9   \n",
            "3   53           Private  234721       11th              7   \n",
            "4   28           Private  338409  Bachelors             13   \n",
            "\n",
            "       marital-status         occupation   relationship   race     sex  \\\n",
            "0       Never-married       Adm-clerical  Not-in-family  White    Male   \n",
            "1  Married-civ-spouse    Exec-managerial        Husband  White    Male   \n",
            "2            Divorced  Handlers-cleaners  Not-in-family  White    Male   \n",
            "3  Married-civ-spouse  Handlers-cleaners        Husband  Black    Male   \n",
            "4  Married-civ-spouse     Prof-specialty           Wife  Black  Female   \n",
            "\n",
            "   capital-gain  capital-loss  hours-per-week native-country income  \n",
            "0          2174             0              40  United-States  <=50K  \n",
            "1             0             0              13  United-States  <=50K  \n",
            "2             0             0              40  United-States  <=50K  \n",
            "3             0             0              40  United-States  <=50K  \n",
            "4             0             0              40           Cuba  <=50K  \n",
            "\n",
            "Information: \n",
            "<class 'pandas.core.frame.DataFrame'>\n",
            "RangeIndex: 32561 entries, 0 to 32560\n",
            "Data columns (total 15 columns):\n",
            " #   Column          Non-Null Count  Dtype \n",
            "---  ------          --------------  ----- \n",
            " 0   age             32561 non-null  int64 \n",
            " 1   workclass       32561 non-null  object\n",
            " 2   fnlwgt          32561 non-null  int64 \n",
            " 3   education       32561 non-null  object\n",
            " 4   education-num   32561 non-null  int64 \n",
            " 5   marital-status  32561 non-null  object\n",
            " 6   occupation      32561 non-null  object\n",
            " 7   relationship    32561 non-null  object\n",
            " 8   race            32561 non-null  object\n",
            " 9   sex             32561 non-null  object\n",
            " 10  capital-gain    32561 non-null  int64 \n",
            " 11  capital-loss    32561 non-null  int64 \n",
            " 12  hours-per-week  32561 non-null  int64 \n",
            " 13  native-country  32561 non-null  object\n",
            " 14  income          32561 non-null  object\n",
            "dtypes: int64(6), object(9)\n",
            "memory usage: 3.7+ MB\n",
            "None\n"
          ]
        }
      ],
      "source": [
        "# Display dataset information and preview data\n",
        "# -> Display the first 5 rows and print the basic states for data\n",
        "# -> Hint: head and info\n",
        "\n",
        "# Display first 5 rows\n",
        "print(\"\\nFirst 5 Rows: \")\n",
        "print(df.head())\n",
        "\n",
        "# Display information about the dataset\n",
        "\n",
        "print(\"\\nInformation: \")\n",
        "\n",
        "print(df.info())\n"
      ]
    },
    {
      "cell_type": "markdown",
      "metadata": {
        "id": "xjsOPQ2Bn6T1"
      },
      "source": [
        "**Dataset Dimensions:** Knowing the shape of the data informs students about its scale, which can affect computation time and choice of algorithms."
      ]
    },
    {
      "cell_type": "code",
      "execution_count": 9,
      "metadata": {
        "colab": {
          "base_uri": "https://localhost:8080/"
        },
        "id": "XKja8Ls0UU9S",
        "outputId": "d5b01229-da25-4ef3-f1f9-6d5229b2003d"
      },
      "outputs": [
        {
          "name": "stdout",
          "output_type": "stream",
          "text": [
            "Dataset dimensions (rows, columns): (32561, 15)\n"
          ]
        }
      ],
      "source": [
        "# Display the dimension of the data\n",
        "# -> Hint : shape\n",
        "\n",
        "print(\"Dataset dimensions (rows, columns):\", df.shape)\n"
      ]
    },
    {
      "cell_type": "markdown",
      "metadata": {
        "id": "vpDOCBUhoBEa"
      },
      "source": [
        "### **Step 2.2 : Basic Statistical Summary:**\n",
        "\n",
        "The describe() function provides vital statistics (min, max, mean, standard deviation) that help identify any outliers or anomalies in numerical columns."
      ]
    },
    {
      "cell_type": "code",
      "execution_count": 10,
      "metadata": {
        "colab": {
          "base_uri": "https://localhost:8080/",
          "height": 300
        },
        "id": "2NnzpfSUUhdi",
        "outputId": "614d13a3-5e08-4aca-9752-c54ecb93a7b9"
      },
      "outputs": [
        {
          "data": {
            "text/html": [
              "<div>\n",
              "<style scoped>\n",
              "    .dataframe tbody tr th:only-of-type {\n",
              "        vertical-align: middle;\n",
              "    }\n",
              "\n",
              "    .dataframe tbody tr th {\n",
              "        vertical-align: top;\n",
              "    }\n",
              "\n",
              "    .dataframe thead th {\n",
              "        text-align: right;\n",
              "    }\n",
              "</style>\n",
              "<table border=\"1\" class=\"dataframe\">\n",
              "  <thead>\n",
              "    <tr style=\"text-align: right;\">\n",
              "      <th></th>\n",
              "      <th>age</th>\n",
              "      <th>fnlwgt</th>\n",
              "      <th>education-num</th>\n",
              "      <th>capital-gain</th>\n",
              "      <th>capital-loss</th>\n",
              "      <th>hours-per-week</th>\n",
              "    </tr>\n",
              "  </thead>\n",
              "  <tbody>\n",
              "    <tr>\n",
              "      <th>count</th>\n",
              "      <td>32561.000000</td>\n",
              "      <td>3.256100e+04</td>\n",
              "      <td>32561.000000</td>\n",
              "      <td>32561.000000</td>\n",
              "      <td>32561.000000</td>\n",
              "      <td>32561.000000</td>\n",
              "    </tr>\n",
              "    <tr>\n",
              "      <th>mean</th>\n",
              "      <td>38.581647</td>\n",
              "      <td>1.897784e+05</td>\n",
              "      <td>10.080679</td>\n",
              "      <td>1077.648844</td>\n",
              "      <td>87.303830</td>\n",
              "      <td>40.437456</td>\n",
              "    </tr>\n",
              "    <tr>\n",
              "      <th>std</th>\n",
              "      <td>13.640433</td>\n",
              "      <td>1.055500e+05</td>\n",
              "      <td>2.572720</td>\n",
              "      <td>7385.292085</td>\n",
              "      <td>402.960219</td>\n",
              "      <td>12.347429</td>\n",
              "    </tr>\n",
              "    <tr>\n",
              "      <th>min</th>\n",
              "      <td>17.000000</td>\n",
              "      <td>1.228500e+04</td>\n",
              "      <td>1.000000</td>\n",
              "      <td>0.000000</td>\n",
              "      <td>0.000000</td>\n",
              "      <td>1.000000</td>\n",
              "    </tr>\n",
              "    <tr>\n",
              "      <th>25%</th>\n",
              "      <td>28.000000</td>\n",
              "      <td>1.178270e+05</td>\n",
              "      <td>9.000000</td>\n",
              "      <td>0.000000</td>\n",
              "      <td>0.000000</td>\n",
              "      <td>40.000000</td>\n",
              "    </tr>\n",
              "    <tr>\n",
              "      <th>50%</th>\n",
              "      <td>37.000000</td>\n",
              "      <td>1.783560e+05</td>\n",
              "      <td>10.000000</td>\n",
              "      <td>0.000000</td>\n",
              "      <td>0.000000</td>\n",
              "      <td>40.000000</td>\n",
              "    </tr>\n",
              "    <tr>\n",
              "      <th>75%</th>\n",
              "      <td>48.000000</td>\n",
              "      <td>2.370510e+05</td>\n",
              "      <td>12.000000</td>\n",
              "      <td>0.000000</td>\n",
              "      <td>0.000000</td>\n",
              "      <td>45.000000</td>\n",
              "    </tr>\n",
              "    <tr>\n",
              "      <th>max</th>\n",
              "      <td>90.000000</td>\n",
              "      <td>1.484705e+06</td>\n",
              "      <td>16.000000</td>\n",
              "      <td>99999.000000</td>\n",
              "      <td>4356.000000</td>\n",
              "      <td>99.000000</td>\n",
              "    </tr>\n",
              "  </tbody>\n",
              "</table>\n",
              "</div>"
            ],
            "text/plain": [
              "                age        fnlwgt  education-num  capital-gain  capital-loss  \\\n",
              "count  32561.000000  3.256100e+04   32561.000000  32561.000000  32561.000000   \n",
              "mean      38.581647  1.897784e+05      10.080679   1077.648844     87.303830   \n",
              "std       13.640433  1.055500e+05       2.572720   7385.292085    402.960219   \n",
              "min       17.000000  1.228500e+04       1.000000      0.000000      0.000000   \n",
              "25%       28.000000  1.178270e+05       9.000000      0.000000      0.000000   \n",
              "50%       37.000000  1.783560e+05      10.000000      0.000000      0.000000   \n",
              "75%       48.000000  2.370510e+05      12.000000      0.000000      0.000000   \n",
              "max       90.000000  1.484705e+06      16.000000  99999.000000   4356.000000   \n",
              "\n",
              "       hours-per-week  \n",
              "count    32561.000000  \n",
              "mean        40.437456  \n",
              "std         12.347429  \n",
              "min          1.000000  \n",
              "25%         40.000000  \n",
              "50%         40.000000  \n",
              "75%         45.000000  \n",
              "max         99.000000  "
            ]
          },
          "execution_count": 10,
          "metadata": {},
          "output_type": "execute_result"
        }
      ],
      "source": [
        "# Check the min , max , count , means , standard diviation etc\n",
        "# Hint -> describe\n",
        "\n",
        "# Display descriptive statistics\n",
        "df.describe()\n"
      ]
    },
    {
      "cell_type": "markdown",
      "metadata": {
        "id": "Dy6MvsJGoLLC"
      },
      "source": [
        "# **Step 2.3 : Counting Missing Values:**\n",
        "\n",
        "This step is essential for diagnosing data quality. Missing values can lead to biased or inaccurate models if not handled properly."
      ]
    },
    {
      "cell_type": "code",
      "execution_count": 11,
      "metadata": {
        "colab": {
          "base_uri": "https://localhost:8080/"
        },
        "id": "jy6idUTvVTPc",
        "outputId": "9d243534-163b-44f8-d1b5-ef0321ad24d4"
      },
      "outputs": [
        {
          "name": "stdout",
          "output_type": "stream",
          "text": [
            "Missing values in each column:\n",
            "age               0\n",
            "workclass         0\n",
            "fnlwgt            0\n",
            "education         0\n",
            "education-num     0\n",
            "marital-status    0\n",
            "occupation        0\n",
            "relationship      0\n",
            "race              0\n",
            "sex               0\n",
            "capital-gain      0\n",
            "capital-loss      0\n",
            "hours-per-week    0\n",
            "native-country    0\n",
            "income            0\n",
            "dtype: int64\n"
          ]
        }
      ],
      "source": [
        "# Count missing values in each column\n",
        "missing_values = df.isnull().sum()\n",
        "print(\"Missing values in each column:\")\n",
        "print(missing_values)"
      ]
    },
    {
      "cell_type": "markdown",
      "metadata": {
        "id": "Zx768vdZoTKm"
      },
      "source": [
        "### **Step 2.4 : Checking for Duplicate Records:**\n",
        "\n",
        "Duplicates can skew the analysis by over-representing some data, so it's important to remove them."
      ]
    },
    {
      "cell_type": "code",
      "execution_count": 12,
      "metadata": {
        "colab": {
          "base_uri": "https://localhost:8080/"
        },
        "id": "gf-P4Q1iVW_a",
        "outputId": "f7ea2495-63b7-4720-9212-174ca36877bb"
      },
      "outputs": [
        {
          "name": "stdout",
          "output_type": "stream",
          "text": [
            "Number of duplicate records: 24\n"
          ]
        }
      ],
      "source": [
        "# Check for duplicate records\n",
        "duplicate_count = df.duplicated().sum()\n",
        "print(f\"Number of duplicate records: {duplicate_count}\")\n"
      ]
    },
    {
      "cell_type": "markdown",
      "metadata": {
        "id": "_BQfjyVHoc4h"
      },
      "source": [
        "### **Step 2.5 : Inspecting Unique Values in Categorical Columns:**\n",
        "\n",
        "Unique value inspection reveals if there are any unexpected values (e.g., a '?' or extra spaces) that need cleaning. This is important for ensuring reliable encoding later."
      ]
    },
    {
      "cell_type": "code",
      "execution_count": 14,
      "metadata": {
        "colab": {
          "base_uri": "https://localhost:8080/"
        },
        "id": "LZzyOkp8Vjfe",
        "outputId": "23b9ffee-06f9-4a4c-d15b-4e7748a3cbe1"
      },
      "outputs": [
        {
          "name": "stdout",
          "output_type": "stream",
          "text": [
            "\n",
            "Unique values in workclass:\n",
            "['State-gov' 'Self-emp-not-inc' 'Private' 'Federal-gov' 'Local-gov' '?'\n",
            " 'Self-emp-inc' 'Without-pay' 'Never-worked']\n",
            "Count of unique values: 9\n",
            "\n",
            "Unique values in education:\n",
            "['Bachelors' 'HS-grad' '11th' 'Masters' '9th' 'Some-college' 'Assoc-acdm'\n",
            " 'Assoc-voc' '7th-8th' 'Doctorate' 'Prof-school' '5th-6th' '10th'\n",
            " '1st-4th' 'Preschool' '12th']\n",
            "Count of unique values: 16\n",
            "\n",
            "Unique values in marital-status:\n",
            "['Never-married' 'Married-civ-spouse' 'Divorced' 'Married-spouse-absent'\n",
            " 'Separated' 'Married-AF-spouse' 'Widowed']\n",
            "Count of unique values: 7\n",
            "\n",
            "Unique values in occupation:\n",
            "['Adm-clerical' 'Exec-managerial' 'Handlers-cleaners' 'Prof-specialty'\n",
            " 'Other-service' 'Sales' 'Craft-repair' 'Transport-moving'\n",
            " 'Farming-fishing' 'Machine-op-inspct' 'Tech-support' '?'\n",
            " 'Protective-serv' 'Armed-Forces' 'Priv-house-serv']\n",
            "Count of unique values: 15\n",
            "\n",
            "Unique values in relationship:\n",
            "['Not-in-family' 'Husband' 'Wife' 'Own-child' 'Unmarried' 'Other-relative']\n",
            "Count of unique values: 6\n",
            "\n",
            "Unique values in race:\n",
            "['White' 'Black' 'Asian-Pac-Islander' 'Amer-Indian-Eskimo' 'Other']\n",
            "Count of unique values: 5\n",
            "\n",
            "Unique values in sex:\n",
            "['Male' 'Female']\n",
            "Count of unique values: 2\n",
            "\n",
            "Unique values in native-country:\n",
            "['United-States' 'Cuba' 'Jamaica' 'India' '?' 'Mexico' 'South'\n",
            " 'Puerto-Rico' 'Honduras' 'England' 'Canada' 'Germany' 'Iran'\n",
            " 'Philippines' 'Italy' 'Poland' 'Columbia' 'Cambodia' 'Thailand' 'Ecuador'\n",
            " 'Laos' 'Taiwan' 'Haiti' 'Portugal' 'Dominican-Republic' 'El-Salvador'\n",
            " 'France' 'Guatemala' 'China' 'Japan' 'Yugoslavia' 'Peru'\n",
            " 'Outlying-US(Guam-USVI-etc)' 'Scotland' 'Trinadad&Tobago' 'Greece'\n",
            " 'Nicaragua' 'Vietnam' 'Hong' 'Ireland' 'Hungary' 'Holand-Netherlands']\n",
            "Count of unique values: 42\n",
            "\n",
            "Unique values in income:\n",
            "['<=50K' '>50K']\n",
            "Count of unique values: 2\n"
          ]
        }
      ],
      "source": [
        "# Check the unique data of each Categorical column to find if there is any irrelevant record or data e.g one record contains ? mark\n",
        "categorical_columns = ['workclass', 'education', 'marital-status', 'occupation', 'relationship', 'race', 'sex', 'native-country', 'income']\n",
        "\n",
        "for col in categorical_columns:\n",
        "    print(f\"\\nUnique values in {col}:\")\n",
        "    print(df[col].unique())\n",
        "    print(f\"Count of unique values: {df[col].nunique()}\")\n"
      ]
    },
    {
      "cell_type": "markdown",
      "metadata": {
        "id": "51UFtEbPolG7"
      },
      "source": [
        "### **Step 2.6 : Validating and Converting Data Types:**\n",
        "\n",
        "Converting columns to the correct datatype (like converting an ID column to a string) prevents errors in operations such as merging, filtering, or encoding."
      ]
    },
    {
      "cell_type": "markdown",
      "metadata": {
        "id": "fNmeH7rXoq-B"
      },
      "source": []
    },
    {
      "cell_type": "code",
      "execution_count": 21,
      "metadata": {
        "colab": {
          "base_uri": "https://localhost:8080/"
        },
        "id": "FpkcYaJWWWnB",
        "outputId": "39018813-1400-475a-ac22-7e8509bcb76c"
      },
      "outputs": [
        {
          "name": "stdout",
          "output_type": "stream",
          "text": [
            "Current data types:\n",
            "age                float64\n",
            "workclass         category\n",
            "fnlwgt             float64\n",
            "education         category\n",
            "education-num      float64\n",
            "marital-status    category\n",
            "occupation        category\n",
            "relationship      category\n",
            "race              category\n",
            "sex               category\n",
            "capital-gain       float64\n",
            "capital-loss       float64\n",
            "hours-per-week     float64\n",
            "native-country    category\n",
            "income            category\n",
            "dtype: object\n"
          ]
        }
      ],
      "source": [
        "# Check the data type of each column and if wrong datatype convert it to the suitable datatype\n",
        "\n",
        "print(\"Current data types:\")\n",
        "print(df.dtypes)\n",
        "\n",
        "# No conversion needed in this dataset as data types are appropriate for each column"
      ]
    },
    {
      "cell_type": "markdown",
      "metadata": {
        "id": "Qo91Tudgotxt"
      },
      "source": [
        "### **Step 2.7 : Checking Value Counts for Categorical Columns:**\n",
        "\n",
        "Value counts help in understanding the distribution within each category. They are useful for detecting class imbalances and anomalies."
      ]
    },
    {
      "cell_type": "code",
      "execution_count": 16,
      "metadata": {
        "colab": {
          "base_uri": "https://localhost:8080/"
        },
        "id": "OvH-IVFbWj13",
        "outputId": "139ad197-72cc-47f8-fd52-0df67a3a7503"
      },
      "outputs": [
        {
          "name": "stdout",
          "output_type": "stream",
          "text": [
            "\n",
            "Value counts for workclass:\n",
            "workclass\n",
            "Private             22696\n",
            "Self-emp-not-inc     2541\n",
            "Local-gov            2093\n",
            "?                    1836\n",
            "State-gov            1298\n",
            "Self-emp-inc         1116\n",
            "Federal-gov           960\n",
            "Without-pay            14\n",
            "Never-worked            7\n",
            "Name: count, dtype: int64\n",
            "Count of unique values: 9\n",
            "\n",
            "Value counts for education:\n",
            "education\n",
            "HS-grad         10501\n",
            "Some-college     7291\n",
            "Bachelors        5355\n",
            "Masters          1723\n",
            "Assoc-voc        1382\n",
            "11th             1175\n",
            "Assoc-acdm       1067\n",
            "10th              933\n",
            "7th-8th           646\n",
            "Prof-school       576\n",
            "9th               514\n",
            "12th              433\n",
            "Doctorate         413\n",
            "5th-6th           333\n",
            "1st-4th           168\n",
            "Preschool          51\n",
            "Name: count, dtype: int64\n",
            "Count of unique values: 16\n",
            "\n",
            "Value counts for marital-status:\n",
            "marital-status\n",
            "Married-civ-spouse       14976\n",
            "Never-married            10683\n",
            "Divorced                  4443\n",
            "Separated                 1025\n",
            "Widowed                    993\n",
            "Married-spouse-absent      418\n",
            "Married-AF-spouse           23\n",
            "Name: count, dtype: int64\n",
            "Count of unique values: 7\n",
            "\n",
            "Value counts for occupation:\n",
            "occupation\n",
            "Prof-specialty       4140\n",
            "Craft-repair         4099\n",
            "Exec-managerial      4066\n",
            "Adm-clerical         3770\n",
            "Sales                3650\n",
            "Other-service        3295\n",
            "Machine-op-inspct    2002\n",
            "?                    1843\n",
            "Transport-moving     1597\n",
            "Handlers-cleaners    1370\n",
            "Farming-fishing       994\n",
            "Tech-support          928\n",
            "Protective-serv       649\n",
            "Priv-house-serv       149\n",
            "Armed-Forces            9\n",
            "Name: count, dtype: int64\n",
            "Count of unique values: 15\n",
            "\n",
            "Value counts for relationship:\n",
            "relationship\n",
            "Husband           13193\n",
            "Not-in-family      8305\n",
            "Own-child          5068\n",
            "Unmarried          3446\n",
            "Wife               1568\n",
            "Other-relative      981\n",
            "Name: count, dtype: int64\n",
            "Count of unique values: 6\n",
            "\n",
            "Value counts for race:\n",
            "race\n",
            "White                 27816\n",
            "Black                  3124\n",
            "Asian-Pac-Islander     1039\n",
            "Amer-Indian-Eskimo      311\n",
            "Other                   271\n",
            "Name: count, dtype: int64\n",
            "Count of unique values: 5\n",
            "\n",
            "Value counts for sex:\n",
            "sex\n",
            "Male      21790\n",
            "Female    10771\n",
            "Name: count, dtype: int64\n",
            "Count of unique values: 2\n",
            "\n",
            "Value counts for native-country:\n",
            "native-country\n",
            "United-States                 29170\n",
            "Mexico                          643\n",
            "?                               583\n",
            "Philippines                     198\n",
            "Germany                         137\n",
            "Canada                          121\n",
            "Puerto-Rico                     114\n",
            "El-Salvador                     106\n",
            "India                           100\n",
            "Cuba                             95\n",
            "England                          90\n",
            "Jamaica                          81\n",
            "South                            80\n",
            "China                            75\n",
            "Italy                            73\n",
            "Dominican-Republic               70\n",
            "Vietnam                          67\n",
            "Guatemala                        64\n",
            "Japan                            62\n",
            "Poland                           60\n",
            "Columbia                         59\n",
            "Taiwan                           51\n",
            "Haiti                            44\n",
            "Iran                             43\n",
            "Portugal                         37\n",
            "Nicaragua                        34\n",
            "Peru                             31\n",
            "France                           29\n",
            "Greece                           29\n",
            "Ecuador                          28\n",
            "Ireland                          24\n",
            "Hong                             20\n",
            "Trinadad&Tobago                  19\n",
            "Cambodia                         19\n",
            "Thailand                         18\n",
            "Laos                             18\n",
            "Yugoslavia                       16\n",
            "Outlying-US(Guam-USVI-etc)       14\n",
            "Honduras                         13\n",
            "Hungary                          13\n",
            "Scotland                         12\n",
            "Holand-Netherlands                1\n",
            "Name: count, dtype: int64\n",
            "Count of unique values: 42\n",
            "\n",
            "Value counts for income:\n",
            "income\n",
            "<=50K    24720\n",
            ">50K      7841\n",
            "Name: count, dtype: int64\n",
            "Count of unique values: 2\n"
          ]
        }
      ],
      "source": [
        "# Check value count for each Cateorical column\n",
        "\n",
        "# Display value counts for categorical columns\n",
        "for col in categorical_columns:\n",
        "    print(f\"\\nValue counts for {col}:\")\n",
        "    print(df[col].value_counts())\n",
        "    print(f\"Count of unique values: {df[col].nunique()}\")\n"
      ]
    },
    {
      "cell_type": "markdown",
      "metadata": {
        "id": "llNnCP5ko4T5"
      },
      "source": [
        "### **Step 2.8 : Handling Missing Values using SimpleImputer:**\n",
        "\n",
        "Imputation preserves the dataset size while ensuring that no null values interfere with analysis. Different strategies are used for numerical (mean) and categorical (mode) columns based on their characteristics."
      ]
    },
    {
      "cell_type": "code",
      "execution_count": 17,
      "metadata": {
        "id": "BK5ZTqMxW5ki"
      },
      "outputs": [
        {
          "name": "stdout",
          "output_type": "stream",
          "text": [
            "Missing values after imputation:\n",
            "age               0\n",
            "workclass         0\n",
            "fnlwgt            0\n",
            "education         0\n",
            "education-num     0\n",
            "marital-status    0\n",
            "occupation        0\n",
            "relationship      0\n",
            "race              0\n",
            "sex               0\n",
            "capital-gain      0\n",
            "capital-loss      0\n",
            "hours-per-week    0\n",
            "native-country    0\n",
            "income            0\n",
            "dtype: int64\n"
          ]
        }
      ],
      "source": [
        "# TODO: fill null values either by mean , median  or mode based on type of data\n",
        "\n",
        "# Separate numeric and categorical columns\n",
        "numeric_columns = df.select_dtypes(include=['number']).columns.tolist()\n",
        "categorical_columns = df.select_dtypes(include=['object']).columns.tolist()\n",
        "\n",
        "\n",
        "# Numeric: fill with mean\n",
        "numeric_imputer = SimpleImputer(strategy='mean')\n",
        "df[numeric_columns] = numeric_imputer.fit_transform(df[numeric_columns])\n",
        "\n",
        "\n",
        "# Categorical: fill with most frequent (mode)\n",
        "categorical_imputer = SimpleImputer(strategy='most_frequent')\n",
        "df[categorical_columns] = categorical_imputer.fit_transform(df[categorical_columns])\n",
        "\n",
        "# fill constant values with mode\n",
        "constant_imputer = SimpleImputer(strategy='constant', fill_value='0')\n",
        "df[categorical_columns] = constant_imputer.fit_transform(df[categorical_columns])\n",
        "\n",
        "# fill null values represented by ? in the data\n",
        "df.replace(' ?', np.nan, inplace=True)\n",
        "# Check for missing values again\n",
        "missing_values = df.isnull().sum()\n",
        "print(\"Missing values after imputation:\")\n",
        "print(missing_values)\n"
      ]
    },
    {
      "cell_type": "markdown",
      "metadata": {
        "id": "EExEvME4XNq1"
      },
      "source": [
        "# **Step 3 : Converting Data Types and Cleaning Categorical Data**"
      ]
    },
    {
      "cell_type": "markdown",
      "metadata": {
        "id": "q-db-_uPpTJ0"
      },
      "source": [
        "### **Step 3.1 :Removing Leading/Trailing Spaces:**\n",
        "\n",
        "Standardize entries in categorical columns so that no extra spaces lead to misclassification of similar values.\n",
        "\n"
      ]
    },
    {
      "cell_type": "code",
      "execution_count": 18,
      "metadata": {
        "id": "Icg-EEh9X_vu"
      },
      "outputs": [],
      "source": [
        "# Check for leading/trailing spaces in categorical data and remove them\n",
        "\n",
        "for col in categorical_columns:\n",
        "    df[col] = df[col].str.strip()\n"
      ]
    },
    {
      "cell_type": "markdown",
      "metadata": {
        "id": "dkHbBwQypbOC"
      },
      "source": [
        "### **Step 3.2 : Checking and Converting Data Types:**\n",
        "\n",
        "Ensure that every column is of the correct data type (e.g., IDs as strings, dates as datetime)."
      ]
    },
    {
      "cell_type": "code",
      "execution_count": 19,
      "metadata": {
        "id": "dDPXmI9sYCIr"
      },
      "outputs": [],
      "source": [
        "# Check the data type of each column and if wrong datatype convert it to the suitable datatype\n",
        "\n",
        "# Data types are already appropriate, but we can convert 'income' to be more explicit\n",
        "df['income'] = df['income'].astype('category')\n"
      ]
    },
    {
      "cell_type": "markdown",
      "metadata": {
        "id": "HAVw1LLUpiaB"
      },
      "source": [
        "### **3.3 : Converting to 'category' Datatype:**\n",
        "\n",
        "Transform columns that represent categorical data (like Gender or Embarked port) into the 'category' type to optimize memory and computational performance."
      ]
    },
    {
      "cell_type": "code",
      "execution_count": 20,
      "metadata": {
        "colab": {
          "base_uri": "https://localhost:8080/"
        },
        "id": "sY775ImqYRv2",
        "outputId": "d457f27c-28fd-4985-d224-f501864fb613"
      },
      "outputs": [
        {
          "name": "stdout",
          "output_type": "stream",
          "text": [
            "Updated data types:\n",
            "age                float64\n",
            "workclass         category\n",
            "fnlwgt             float64\n",
            "education         category\n",
            "education-num      float64\n",
            "marital-status    category\n",
            "occupation        category\n",
            "relationship      category\n",
            "race              category\n",
            "sex               category\n",
            "capital-gain       float64\n",
            "capital-loss       float64\n",
            "hours-per-week     float64\n",
            "native-country    category\n",
            "income            category\n",
            "dtype: object\n"
          ]
        }
      ],
      "source": [
        "# Convert suitable columns to 'category' datatype\n",
        "\n",
        "categorical_columns = ['workclass', 'education', 'marital-status', 'occupation', 'relationship', 'race', 'sex', 'native-country', 'income']\n",
        "\n",
        "for col in categorical_columns:\n",
        "    df[col] = df[col].astype('category')\n",
        "\n",
        "# Display updated data types\n",
        "print(\"Updated data types:\")\n",
        "print(df.dtypes)"
      ]
    },
    {
      "cell_type": "markdown",
      "metadata": {
        "id": "DbwoPFYddrWL"
      },
      "source": [
        "# **Step 4 : Feature Engineering**"
      ]
    },
    {
      "cell_type": "markdown",
      "metadata": {
        "id": "ukKqYOPVpuLr"
      },
      "source": [
        "### **Step 4.1 : Creating \"age_group\" Feature:**\n",
        "\n",
        "Binning converts continuous age values into meaningful categories (e.g., 'Young', 'Adult') that are easier to analyze and interpret."
      ]
    },
    {
      "cell_type": "code",
      "execution_count": 22,
      "metadata": {
        "colab": {
          "base_uri": "https://localhost:8080/"
        },
        "id": "VHiOa7f_dzKh",
        "outputId": "119577b0-02a9-4f1f-82da-57ad9d26b9dd"
      },
      "outputs": [
        {
          "name": "stdout",
          "output_type": "stream",
          "text": [
            "    age    age_group\n",
            "0  39.0        Adult\n",
            "1  50.0  Middle-Aged\n",
            "2  38.0        Adult\n",
            "3  53.0  Middle-Aged\n",
            "4  28.0        Adult\n"
          ]
        }
      ],
      "source": [
        "# create feature \"age_group\" age categories using binning\n",
        "bins = [0, 25, 45, 65, np.inf]\n",
        "labels = ['Young', 'Adult', 'Middle-Aged', 'Senior']\n",
        "\n",
        "df['age_group'] = pd.cut(df['age'], bins=bins, labels=labels)\n",
        "\n",
        "# Display the first few rows with the new age_group column\n",
        "print(df[['age', 'age_group']].head())\n"
      ]
    },
    {
      "cell_type": "markdown",
      "metadata": {
        "id": "IWKoxWFup3KB"
      },
      "source": [
        "### **Step 4.2 : Creating \"education_hours_interaction\" Feature:**\n",
        "\n",
        "Interaction features help capture complex relationships between variables. In this case, the interaction between education (via 'education-num') and work intensity ('hours-per-week') may reveal underlying patterns related to social or economic outcomes."
      ]
    },
    {
      "cell_type": "code",
      "execution_count": 23,
      "metadata": {
        "colab": {
          "base_uri": "https://localhost:8080/"
        },
        "id": "HJp0nf9CeXJu",
        "outputId": "742873c1-9bd8-4721-a690-1ad08601d67e"
      },
      "outputs": [
        {
          "name": "stdout",
          "output_type": "stream",
          "text": [
            "   education-num  hours-per-week  education_hours_interaction\n",
            "0           13.0            40.0                        520.0\n",
            "1           13.0            13.0                        169.0\n",
            "2            9.0            40.0                        360.0\n",
            "3            7.0            40.0                        280.0\n",
            "4           13.0            40.0                        520.0\n"
          ]
        }
      ],
      "source": [
        "# Create an interaction feature \"education_hours_interaction\": education-num multiplied by hours-per-week (as a proxy for workload vs. education level)\n",
        "\n",
        "df['education_hours_interaction'] = df['education-num'] * df['hours-per-week']\n",
        "\n",
        "# Display the first few rows with the new feature\n",
        "print(df[['education-num', 'hours-per-week', 'education_hours_interaction']].head())\n"
      ]
    },
    {
      "cell_type": "markdown",
      "metadata": {
        "id": "9aCin-YDYSPt"
      },
      "source": [
        "# **Step 5 : Encoding Categorical Data**"
      ]
    },
    {
      "cell_type": "markdown",
      "metadata": {
        "id": "o8fRRNwpqXYE"
      },
      "source": [
        "**One-Hot Encoding:** Converts multiple categorical values into binary columns to prevent ordinality.\n"
      ]
    },
    {
      "cell_type": "code",
      "execution_count": 24,
      "metadata": {
        "colab": {
          "base_uri": "https://localhost:8080/",
          "height": 307
        },
        "id": "oZY0ypZfYb1C",
        "outputId": "b2728767-4d53-482c-8b4d-87fa8ec83c22"
      },
      "outputs": [
        {
          "name": "stdout",
          "output_type": "stream",
          "text": [
            "Shape after one-hot encoding: (32561, 105)\n"
          ]
        },
        {
          "data": {
            "text/html": [
              "<div>\n",
              "<style scoped>\n",
              "    .dataframe tbody tr th:only-of-type {\n",
              "        vertical-align: middle;\n",
              "    }\n",
              "\n",
              "    .dataframe tbody tr th {\n",
              "        vertical-align: top;\n",
              "    }\n",
              "\n",
              "    .dataframe thead th {\n",
              "        text-align: right;\n",
              "    }\n",
              "</style>\n",
              "<table border=\"1\" class=\"dataframe\">\n",
              "  <thead>\n",
              "    <tr style=\"text-align: right;\">\n",
              "      <th></th>\n",
              "      <th>age</th>\n",
              "      <th>fnlwgt</th>\n",
              "      <th>education-num</th>\n",
              "      <th>capital-gain</th>\n",
              "      <th>capital-loss</th>\n",
              "      <th>hours-per-week</th>\n",
              "      <th>income</th>\n",
              "      <th>education_hours_interaction</th>\n",
              "      <th>workclass_Federal-gov</th>\n",
              "      <th>workclass_Local-gov</th>\n",
              "      <th>...</th>\n",
              "      <th>native-country_South</th>\n",
              "      <th>native-country_Taiwan</th>\n",
              "      <th>native-country_Thailand</th>\n",
              "      <th>native-country_Trinadad&amp;Tobago</th>\n",
              "      <th>native-country_United-States</th>\n",
              "      <th>native-country_Vietnam</th>\n",
              "      <th>native-country_Yugoslavia</th>\n",
              "      <th>age_group_Adult</th>\n",
              "      <th>age_group_Middle-Aged</th>\n",
              "      <th>age_group_Senior</th>\n",
              "    </tr>\n",
              "  </thead>\n",
              "  <tbody>\n",
              "    <tr>\n",
              "      <th>0</th>\n",
              "      <td>39.0</td>\n",
              "      <td>77516.0</td>\n",
              "      <td>13.0</td>\n",
              "      <td>2174.0</td>\n",
              "      <td>0.0</td>\n",
              "      <td>40.0</td>\n",
              "      <td>&lt;=50K</td>\n",
              "      <td>520.0</td>\n",
              "      <td>False</td>\n",
              "      <td>False</td>\n",
              "      <td>...</td>\n",
              "      <td>False</td>\n",
              "      <td>False</td>\n",
              "      <td>False</td>\n",
              "      <td>False</td>\n",
              "      <td>True</td>\n",
              "      <td>False</td>\n",
              "      <td>False</td>\n",
              "      <td>True</td>\n",
              "      <td>False</td>\n",
              "      <td>False</td>\n",
              "    </tr>\n",
              "    <tr>\n",
              "      <th>1</th>\n",
              "      <td>50.0</td>\n",
              "      <td>83311.0</td>\n",
              "      <td>13.0</td>\n",
              "      <td>0.0</td>\n",
              "      <td>0.0</td>\n",
              "      <td>13.0</td>\n",
              "      <td>&lt;=50K</td>\n",
              "      <td>169.0</td>\n",
              "      <td>False</td>\n",
              "      <td>False</td>\n",
              "      <td>...</td>\n",
              "      <td>False</td>\n",
              "      <td>False</td>\n",
              "      <td>False</td>\n",
              "      <td>False</td>\n",
              "      <td>True</td>\n",
              "      <td>False</td>\n",
              "      <td>False</td>\n",
              "      <td>False</td>\n",
              "      <td>True</td>\n",
              "      <td>False</td>\n",
              "    </tr>\n",
              "    <tr>\n",
              "      <th>2</th>\n",
              "      <td>38.0</td>\n",
              "      <td>215646.0</td>\n",
              "      <td>9.0</td>\n",
              "      <td>0.0</td>\n",
              "      <td>0.0</td>\n",
              "      <td>40.0</td>\n",
              "      <td>&lt;=50K</td>\n",
              "      <td>360.0</td>\n",
              "      <td>False</td>\n",
              "      <td>False</td>\n",
              "      <td>...</td>\n",
              "      <td>False</td>\n",
              "      <td>False</td>\n",
              "      <td>False</td>\n",
              "      <td>False</td>\n",
              "      <td>True</td>\n",
              "      <td>False</td>\n",
              "      <td>False</td>\n",
              "      <td>True</td>\n",
              "      <td>False</td>\n",
              "      <td>False</td>\n",
              "    </tr>\n",
              "    <tr>\n",
              "      <th>3</th>\n",
              "      <td>53.0</td>\n",
              "      <td>234721.0</td>\n",
              "      <td>7.0</td>\n",
              "      <td>0.0</td>\n",
              "      <td>0.0</td>\n",
              "      <td>40.0</td>\n",
              "      <td>&lt;=50K</td>\n",
              "      <td>280.0</td>\n",
              "      <td>False</td>\n",
              "      <td>False</td>\n",
              "      <td>...</td>\n",
              "      <td>False</td>\n",
              "      <td>False</td>\n",
              "      <td>False</td>\n",
              "      <td>False</td>\n",
              "      <td>True</td>\n",
              "      <td>False</td>\n",
              "      <td>False</td>\n",
              "      <td>False</td>\n",
              "      <td>True</td>\n",
              "      <td>False</td>\n",
              "    </tr>\n",
              "    <tr>\n",
              "      <th>4</th>\n",
              "      <td>28.0</td>\n",
              "      <td>338409.0</td>\n",
              "      <td>13.0</td>\n",
              "      <td>0.0</td>\n",
              "      <td>0.0</td>\n",
              "      <td>40.0</td>\n",
              "      <td>&lt;=50K</td>\n",
              "      <td>520.0</td>\n",
              "      <td>False</td>\n",
              "      <td>False</td>\n",
              "      <td>...</td>\n",
              "      <td>False</td>\n",
              "      <td>False</td>\n",
              "      <td>False</td>\n",
              "      <td>False</td>\n",
              "      <td>False</td>\n",
              "      <td>False</td>\n",
              "      <td>False</td>\n",
              "      <td>True</td>\n",
              "      <td>False</td>\n",
              "      <td>False</td>\n",
              "    </tr>\n",
              "  </tbody>\n",
              "</table>\n",
              "<p>5 rows × 105 columns</p>\n",
              "</div>"
            ],
            "text/plain": [
              "    age    fnlwgt  education-num  capital-gain  capital-loss  hours-per-week  \\\n",
              "0  39.0   77516.0           13.0        2174.0           0.0            40.0   \n",
              "1  50.0   83311.0           13.0           0.0           0.0            13.0   \n",
              "2  38.0  215646.0            9.0           0.0           0.0            40.0   \n",
              "3  53.0  234721.0            7.0           0.0           0.0            40.0   \n",
              "4  28.0  338409.0           13.0           0.0           0.0            40.0   \n",
              "\n",
              "  income  education_hours_interaction  workclass_Federal-gov  \\\n",
              "0  <=50K                        520.0                  False   \n",
              "1  <=50K                        169.0                  False   \n",
              "2  <=50K                        360.0                  False   \n",
              "3  <=50K                        280.0                  False   \n",
              "4  <=50K                        520.0                  False   \n",
              "\n",
              "   workclass_Local-gov  ...  native-country_South  native-country_Taiwan  \\\n",
              "0                False  ...                 False                  False   \n",
              "1                False  ...                 False                  False   \n",
              "2                False  ...                 False                  False   \n",
              "3                False  ...                 False                  False   \n",
              "4                False  ...                 False                  False   \n",
              "\n",
              "   native-country_Thailand  native-country_Trinadad&Tobago  \\\n",
              "0                    False                           False   \n",
              "1                    False                           False   \n",
              "2                    False                           False   \n",
              "3                    False                           False   \n",
              "4                    False                           False   \n",
              "\n",
              "   native-country_United-States  native-country_Vietnam  \\\n",
              "0                          True                   False   \n",
              "1                          True                   False   \n",
              "2                          True                   False   \n",
              "3                          True                   False   \n",
              "4                         False                   False   \n",
              "\n",
              "   native-country_Yugoslavia  age_group_Adult  age_group_Middle-Aged  \\\n",
              "0                      False             True                  False   \n",
              "1                      False            False                   True   \n",
              "2                      False             True                  False   \n",
              "3                      False            False                   True   \n",
              "4                      False             True                  False   \n",
              "\n",
              "   age_group_Senior  \n",
              "0             False  \n",
              "1             False  \n",
              "2             False  \n",
              "3             False  \n",
              "4             False  \n",
              "\n",
              "[5 rows x 105 columns]"
            ]
          },
          "execution_count": 24,
          "metadata": {},
          "output_type": "execute_result"
        }
      ],
      "source": [
        "# One-hot encode the categorical columns (sex, workclass, education, etc.).\n",
        "\n",
        "categorical_cols_to_encode = ['workclass', 'education', 'marital-status', 'occupation', 'relationship', 'race', 'sex', 'native-country', 'age_group']\n",
        "\n",
        "# One-hot encode the categorical columns\n",
        "encoded_df = pd.get_dummies(df, columns=categorical_cols_to_encode, drop_first=True)\n",
        "\n",
        "# Display the shape after one-hot encoding\n",
        "print(\"Shape after one-hot encoding:\", encoded_df.shape)\n",
        "encoded_df.head()\n"
      ]
    },
    {
      "cell_type": "markdown",
      "metadata": {
        "id": "nVEycZ3hqcpL"
      },
      "source": [
        "\n",
        "**Label Encoding for Income:** Maps income to binary labels for binary classification tasks."
      ]
    },
    {
      "cell_type": "code",
      "execution_count": 25,
      "metadata": {
        "colab": {
          "base_uri": "https://localhost:8080/"
        },
        "id": "-ltaHLaqYoQW",
        "outputId": "9651fa17-c2d6-4bea-ef17-fb8d0ce7a397"
      },
      "outputs": [
        {
          "name": "stdout",
          "output_type": "stream",
          "text": [
            "   income_encoded\n",
            "0               0\n",
            "1               0\n",
            "2               0\n",
            "3               0\n",
            "4               0\n"
          ]
        }
      ],
      "source": [
        "# Use label encoding for the income column, converting ≤50K to 0 and 50K to 1.\n",
        "\n",
        "le = LabelEncoder()\n",
        "encoded_df['income_encoded'] = le.fit_transform(df['income'])\n",
        "\n",
        "# Display the first few rows with the encoded income column\n",
        "print(encoded_df[['income_encoded']].head())\n"
      ]
    },
    {
      "cell_type": "markdown",
      "metadata": {
        "id": "aD2o-DGiYnQy"
      },
      "source": [
        "# **Step 6 : Normalization and Standardization**"
      ]
    },
    {
      "cell_type": "markdown",
      "metadata": {
        "id": "qikbvxtLqicN"
      },
      "source": [
        "Standardization transforms the specified columns to a mean of 0 and a standard deviation of 1, which is important to ensure comparability among numerical features during model training."
      ]
    },
    {
      "cell_type": "code",
      "execution_count": 27,
      "metadata": {
        "colab": {
          "base_uri": "https://localhost:8080/",
          "height": 206
        },
        "id": "zsagvJU5ZNvS",
        "outputId": "9564400a-2f92-439d-a538-bce0cc2898c4"
      },
      "outputs": [
        {
          "data": {
            "text/html": [
              "<div>\n",
              "<style scoped>\n",
              "    .dataframe tbody tr th:only-of-type {\n",
              "        vertical-align: middle;\n",
              "    }\n",
              "\n",
              "    .dataframe tbody tr th {\n",
              "        vertical-align: top;\n",
              "    }\n",
              "\n",
              "    .dataframe thead th {\n",
              "        text-align: right;\n",
              "    }\n",
              "</style>\n",
              "<table border=\"1\" class=\"dataframe\">\n",
              "  <thead>\n",
              "    <tr style=\"text-align: right;\">\n",
              "      <th></th>\n",
              "      <th>age</th>\n",
              "      <th>fnlwgt</th>\n",
              "      <th>education-num</th>\n",
              "      <th>capital-gain</th>\n",
              "      <th>capital-loss</th>\n",
              "      <th>hours-per-week</th>\n",
              "      <th>education_hours_interaction</th>\n",
              "      <th>income_encoded</th>\n",
              "      <th>age_standardized</th>\n",
              "      <th>hours-per-week_standardized</th>\n",
              "      <th>capital-gain_standardized</th>\n",
              "      <th>capital-loss_standardized</th>\n",
              "    </tr>\n",
              "  </thead>\n",
              "  <tbody>\n",
              "    <tr>\n",
              "      <th>count</th>\n",
              "      <td>32561.000000</td>\n",
              "      <td>3.256100e+04</td>\n",
              "      <td>32561.000000</td>\n",
              "      <td>32561.000000</td>\n",
              "      <td>32561.000000</td>\n",
              "      <td>32561.000000</td>\n",
              "      <td>32561.000000</td>\n",
              "      <td>32561.000000</td>\n",
              "      <td>3.256100e+04</td>\n",
              "      <td>3.256100e+04</td>\n",
              "      <td>3.256100e+04</td>\n",
              "      <td>3.256100e+04</td>\n",
              "    </tr>\n",
              "    <tr>\n",
              "      <th>mean</th>\n",
              "      <td>38.581647</td>\n",
              "      <td>1.897784e+05</td>\n",
              "      <td>10.080679</td>\n",
              "      <td>1077.648844</td>\n",
              "      <td>87.303830</td>\n",
              "      <td>40.437456</td>\n",
              "      <td>412.342219</td>\n",
              "      <td>0.240810</td>\n",
              "      <td>-4.844461e-17</td>\n",
              "      <td>-2.836846e-17</td>\n",
              "      <td>1.483889e-17</td>\n",
              "      <td>8.728758e-17</td>\n",
              "    </tr>\n",
              "    <tr>\n",
              "      <th>std</th>\n",
              "      <td>13.640433</td>\n",
              "      <td>1.055500e+05</td>\n",
              "      <td>2.572720</td>\n",
              "      <td>7385.292085</td>\n",
              "      <td>402.960219</td>\n",
              "      <td>12.347429</td>\n",
              "      <td>177.835317</td>\n",
              "      <td>0.427581</td>\n",
              "      <td>1.000000e+00</td>\n",
              "      <td>1.000000e+00</td>\n",
              "      <td>1.000000e+00</td>\n",
              "      <td>1.000000e+00</td>\n",
              "    </tr>\n",
              "    <tr>\n",
              "      <th>min</th>\n",
              "      <td>17.000000</td>\n",
              "      <td>1.228500e+04</td>\n",
              "      <td>1.000000</td>\n",
              "      <td>0.000000</td>\n",
              "      <td>0.000000</td>\n",
              "      <td>1.000000</td>\n",
              "      <td>5.000000</td>\n",
              "      <td>0.000000</td>\n",
              "      <td>-1.582182e+00</td>\n",
              "      <td>-3.193981e+00</td>\n",
              "      <td>-1.459182e-01</td>\n",
              "      <td>-2.166562e-01</td>\n",
              "    </tr>\n",
              "    <tr>\n",
              "      <th>25%</th>\n",
              "      <td>28.000000</td>\n",
              "      <td>1.178270e+05</td>\n",
              "      <td>9.000000</td>\n",
              "      <td>0.000000</td>\n",
              "      <td>0.000000</td>\n",
              "      <td>40.000000</td>\n",
              "      <td>320.000000</td>\n",
              "      <td>0.000000</td>\n",
              "      <td>-7.757560e-01</td>\n",
              "      <td>-3.542890e-02</td>\n",
              "      <td>-1.459182e-01</td>\n",
              "      <td>-2.166562e-01</td>\n",
              "    </tr>\n",
              "    <tr>\n",
              "      <th>50%</th>\n",
              "      <td>37.000000</td>\n",
              "      <td>1.783560e+05</td>\n",
              "      <td>10.000000</td>\n",
              "      <td>0.000000</td>\n",
              "      <td>0.000000</td>\n",
              "      <td>40.000000</td>\n",
              "      <td>400.000000</td>\n",
              "      <td>0.000000</td>\n",
              "      <td>-1.159528e-01</td>\n",
              "      <td>-3.542890e-02</td>\n",
              "      <td>-1.459182e-01</td>\n",
              "      <td>-2.166562e-01</td>\n",
              "    </tr>\n",
              "    <tr>\n",
              "      <th>75%</th>\n",
              "      <td>48.000000</td>\n",
              "      <td>2.370510e+05</td>\n",
              "      <td>12.000000</td>\n",
              "      <td>0.000000</td>\n",
              "      <td>0.000000</td>\n",
              "      <td>45.000000</td>\n",
              "      <td>520.000000</td>\n",
              "      <td>0.000000</td>\n",
              "      <td>6.904732e-01</td>\n",
              "      <td>3.695137e-01</td>\n",
              "      <td>-1.459182e-01</td>\n",
              "      <td>-2.166562e-01</td>\n",
              "    </tr>\n",
              "    <tr>\n",
              "      <th>max</th>\n",
              "      <td>90.000000</td>\n",
              "      <td>1.484705e+06</td>\n",
              "      <td>16.000000</td>\n",
              "      <td>99999.000000</td>\n",
              "      <td>4356.000000</td>\n",
              "      <td>99.000000</td>\n",
              "      <td>1584.000000</td>\n",
              "      <td>1.000000</td>\n",
              "      <td>3.769554e+00</td>\n",
              "      <td>4.742894e+00</td>\n",
              "      <td>1.339437e+01</td>\n",
              "      <td>1.059334e+01</td>\n",
              "    </tr>\n",
              "  </tbody>\n",
              "</table>\n",
              "</div>"
            ],
            "text/plain": [
              "                age        fnlwgt  education-num  capital-gain  capital-loss  \\\n",
              "count  32561.000000  3.256100e+04   32561.000000  32561.000000  32561.000000   \n",
              "mean      38.581647  1.897784e+05      10.080679   1077.648844     87.303830   \n",
              "std       13.640433  1.055500e+05       2.572720   7385.292085    402.960219   \n",
              "min       17.000000  1.228500e+04       1.000000      0.000000      0.000000   \n",
              "25%       28.000000  1.178270e+05       9.000000      0.000000      0.000000   \n",
              "50%       37.000000  1.783560e+05      10.000000      0.000000      0.000000   \n",
              "75%       48.000000  2.370510e+05      12.000000      0.000000      0.000000   \n",
              "max       90.000000  1.484705e+06      16.000000  99999.000000   4356.000000   \n",
              "\n",
              "       hours-per-week  education_hours_interaction  income_encoded  \\\n",
              "count    32561.000000                 32561.000000    32561.000000   \n",
              "mean        40.437456                   412.342219        0.240810   \n",
              "std         12.347429                   177.835317        0.427581   \n",
              "min          1.000000                     5.000000        0.000000   \n",
              "25%         40.000000                   320.000000        0.000000   \n",
              "50%         40.000000                   400.000000        0.000000   \n",
              "75%         45.000000                   520.000000        0.000000   \n",
              "max         99.000000                  1584.000000        1.000000   \n",
              "\n",
              "       age_standardized  hours-per-week_standardized  \\\n",
              "count      3.256100e+04                 3.256100e+04   \n",
              "mean      -4.844461e-17                -2.836846e-17   \n",
              "std        1.000000e+00                 1.000000e+00   \n",
              "min       -1.582182e+00                -3.193981e+00   \n",
              "25%       -7.757560e-01                -3.542890e-02   \n",
              "50%       -1.159528e-01                -3.542890e-02   \n",
              "75%        6.904732e-01                 3.695137e-01   \n",
              "max        3.769554e+00                 4.742894e+00   \n",
              "\n",
              "       capital-gain_standardized  capital-loss_standardized  \n",
              "count               3.256100e+04               3.256100e+04  \n",
              "mean                1.483889e-17               8.728758e-17  \n",
              "std                 1.000000e+00               1.000000e+00  \n",
              "min                -1.459182e-01              -2.166562e-01  \n",
              "25%                -1.459182e-01              -2.166562e-01  \n",
              "50%                -1.459182e-01              -2.166562e-01  \n",
              "75%                -1.459182e-01              -2.166562e-01  \n",
              "max                 1.339437e+01               1.059334e+01  "
            ]
          },
          "execution_count": 27,
          "metadata": {},
          "output_type": "execute_result"
        }
      ],
      "source": [
        "# Standardize the \"age\", \"hours-per-week\", \"capital-gain\" and \"capital-loss\" column to have a mean of 0 and a standard deviation of 1.\n",
        "\n",
        "cols_to_standardize = ['age', 'hours-per-week', 'capital-gain', 'capital-loss']\n",
        "\n",
        "# Standardize the columns\n",
        "for col in cols_to_standardize:\n",
        "    mean = encoded_df[col].mean()\n",
        "    std = encoded_df[col].std()\n",
        "    encoded_df[col + '_standardized'] = (encoded_df[col] - mean) / std\n",
        "\n",
        "# Display the first few rows with the standardized columns\n",
        "encoded_df[[col + '_standardized' for col in cols_to_standardize]].head()\n",
        "\n",
        "encoded_df.describe()"
      ]
    }
  ],
  "metadata": {
    "colab": {
      "provenance": []
    },
    "kernelspec": {
      "display_name": "Python 3",
      "name": "python3"
    },
    "language_info": {
      "codemirror_mode": {
        "name": "ipython",
        "version": 3
      },
      "file_extension": ".py",
      "mimetype": "text/x-python",
      "name": "python",
      "nbconvert_exporter": "python",
      "pygments_lexer": "ipython3",
      "version": "3.9.13"
    }
  },
  "nbformat": 4,
  "nbformat_minor": 0
}
