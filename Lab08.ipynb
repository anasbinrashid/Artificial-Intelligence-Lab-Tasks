{
  "nbformat": 4,
  "nbformat_minor": 0,
  "metadata": {
    "colab": {
      "provenance": []
    },
    "kernelspec": {
      "name": "python3",
      "display_name": "Python 3"
    },
    "language_info": {
      "name": "python"
    }
  },
  "cells": [
    {
      "cell_type": "code",
      "execution_count": 24,
      "metadata": {
        "id": "azVv73VKqTCD"
      },
      "outputs": [],
      "source": [
        "class SudokuSolver:\n",
        "    def __init__(self, grid):\n",
        "        self.grid = grid\n",
        "        self.variables = [(i, j) for i in range(9) for j in range(9)]\n",
        "        self.domains = {\n",
        "            var: set(range(1, 10)) if grid[var[0]][var[1]] == 0 else {grid[var[0]][var[1]]}\n",
        "            for var in self.variables\n",
        "        }\n",
        "        self.constraints = self.generate_constraints()\n",
        "\n",
        "    def generate_constraints(self):\n",
        "\n",
        "        constraints = {}\n",
        "        for i in range(9):\n",
        "            for j in range(9):\n",
        "                if (i, j) not in constraints:\n",
        "                    constraints[(i, j)] = set()\n",
        "                # Row constraints\n",
        "                for col in range(9):\n",
        "                    if col != j:\n",
        "                        constraints[(i, j)].add((i, col))\n",
        "                # Column constraints\n",
        "                for row in range(9):\n",
        "                    if row != i:\n",
        "                        constraints[(i, j)].add((row, j))\n",
        "                # Subgrid constraints\n",
        "                row_start = (i // 3) * 3\n",
        "                col_start = (j // 3) * 3\n",
        "                for r in range(row_start, row_start + 3):\n",
        "                    for c in range(col_start, col_start + 3):\n",
        "                        if (r, c) != (i, j):\n",
        "                            constraints[(i, j)].add((r, c))\n",
        "        return constraints\n",
        "\n",
        "    def is_valid(self, var, value):\n",
        "\n",
        "        i, j = var\n",
        "        for neighbor in self.constraints[var]:\n",
        "            if self.grid[neighbor[0]][neighbor[1]] == value:\n",
        "                return False\n",
        "        return True\n",
        "\n",
        "    def forward_checking(self, var, value):\n",
        "        affected = []\n",
        "        for neighbor in self.constraints[var]:\n",
        "            r, c = neighbor\n",
        "            if self.grid[r][c] == 0 and value in self.domains[neighbor]:\n",
        "                self.domains[neighbor].remove(value)\n",
        "                affected.append((neighbor, value))\n",
        "                if len(self.domains[neighbor]) == 0:\n",
        "                    self.restore_domains(affected, value)\n",
        "                    return None\n",
        "        return affected\n",
        "\n",
        "    def restore_domains(self, affected, value):\n",
        "        for neighbor, val in affected:\n",
        "            self.domains[neighbor].add(val)\n",
        "\n",
        "    def backtrack(self):\n",
        "        unassigned = [(var, self.domains[var]) for var in self.variables if self.grid[var[0]][var[1]] == 0]\n",
        "        if not unassigned:\n",
        "            return True\n",
        "\n",
        "        var = min(unassigned, key=lambda x: len(x[1]))[0]\n",
        "        for value in list(self.domains[var]):\n",
        "            if self.is_valid(var, value):\n",
        "                self.grid[var[0]][var[1]] = value\n",
        "                saved_domain = self.domains[var].copy()\n",
        "                self.domains[var] = {value}\n",
        "                affected = self.forward_checking(var, value)\n",
        "                if affected is not None:\n",
        "                    if self.backtrack():\n",
        "                        return True\n",
        "                self.grid[var[0]][var[1]] = 0\n",
        "                self.domains[var] = saved_domain\n",
        "                if affected is not None:\n",
        "                    self.restore_domains(affected, value)\n",
        "        return False\n",
        "\n",
        "    def solve(self):\n",
        "        if self.backtrack():\n",
        "            return self.grid\n",
        "        else:\n",
        "            return None"
      ]
    },
    {
      "cell_type": "code",
      "source": [
        "\n",
        "# 9x9 Sudoku Grid (0 represents empty cells)\n",
        "sudoku_grid = [\n",
        "    [5, 3, 0, 0, 7, 0, 0, 0, 0],\n",
        "    [6, 0, 0, 1, 9, 5, 0, 0, 0],\n",
        "    [0, 9, 8, 0, 0, 0, 0, 6, 0],\n",
        "    [8, 0, 0, 0, 6, 0, 0, 0, 3],\n",
        "    [4, 0, 0, 8, 0, 3, 0, 0, 1],\n",
        "    [7, 0, 0, 0, 2, 0, 0, 0, 6],\n",
        "    [0, 6, 0, 0, 0, 0, 2, 8, 0],\n",
        "    [0, 0, 0, 4, 1, 9, 0, 0, 5],\n",
        "    [0, 0, 0, 0, 8, 0, 0, 7, 9],\n",
        "]\n",
        "\n",
        "# Solve the Sudoku\n",
        "solver = SudokuSolver(sudoku_grid)\n",
        "solution = solver.solve()\n",
        "\n",
        "# Print the solution\n",
        "if solution:\n",
        "    print(\"Solved Sudoku:\")\n",
        "    for row in solution:\n",
        "        print(row)\n",
        "else:\n",
        "    print(\"No solution exists.\")\n"
      ],
      "metadata": {
        "colab": {
          "base_uri": "https://localhost:8080/"
        },
        "id": "-IPb6eOgsvjK",
        "outputId": "a04331c5-cd99-4e82-ef47-7f0f5a38c4bb"
      },
      "execution_count": 23,
      "outputs": [
        {
          "output_type": "stream",
          "name": "stdout",
          "text": [
            "Solved Sudoku:\n",
            "[5, 3, 4, 6, 7, 8, 9, 1, 2]\n",
            "[6, 7, 2, 1, 9, 5, 3, 4, 8]\n",
            "[1, 9, 8, 3, 4, 2, 5, 6, 7]\n",
            "[8, 5, 9, 7, 6, 1, 4, 2, 3]\n",
            "[4, 2, 6, 8, 5, 3, 7, 9, 1]\n",
            "[7, 1, 3, 9, 2, 4, 8, 5, 6]\n",
            "[9, 6, 1, 5, 3, 7, 2, 8, 4]\n",
            "[2, 8, 7, 4, 1, 9, 6, 3, 5]\n",
            "[3, 4, 5, 2, 8, 6, 1, 7, 9]\n"
          ]
        }
      ]
    }
  ]
}