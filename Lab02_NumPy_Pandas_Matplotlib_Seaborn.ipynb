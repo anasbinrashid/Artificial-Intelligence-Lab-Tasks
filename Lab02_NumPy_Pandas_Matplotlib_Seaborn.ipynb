{
  "cells": [
    {
      "cell_type": "markdown",
      "metadata": {
        "id": "jsrA8V_EaR8r"
      },
      "source": [
        "## Anas Bin Rashid\n",
        "## 22I-0907 CS-6A\n",
        "\n",
        "### Task 1\n"
      ]
    },
    {
      "cell_type": "code",
      "execution_count": 9,
      "metadata": {
        "colab": {
          "base_uri": "https://localhost:8080/"
        },
        "id": "doH-igKEvd8k",
        "outputId": "7f083af5-1ba4-427f-dcf9-25b3123760fd"
      },
      "outputs": [
        {
          "name": "stdout",
          "output_type": "stream",
          "text": [
            "Enter the total number of movements: 4\n",
            "Enter movement direction and the number of steps: UP 5\n",
            "Enter movement direction and the number of steps: DOWN 3\n",
            "Enter movement direction and the number of steps: LEFT 3\n",
            "Enter movement direction and the number of steps: RIGHT 2\n",
            "The distance from starting point (0,0) is:  2\n"
          ]
        }
      ],
      "source": [
        "import math\n",
        "\n",
        "def calculatedistance(movements):\n",
        "    x = 0\n",
        "    y = 0\n",
        "    for i in movements:\n",
        "        direction, steps = i.split()\n",
        "        steps = int(steps)\n",
        "        if direction == \"UP\":\n",
        "            y += steps\n",
        "        elif direction == \"DOWN\":\n",
        "            y -= steps\n",
        "        elif direction == \"LEFT\":\n",
        "            x -= steps\n",
        "        elif direction == \"RIGHT\":\n",
        "            x += steps\n",
        "    distance = math.sqrt(x**2 + y**2)\n",
        "    result = round(distance)\n",
        "    return result\n",
        "\n",
        "numberofmovements = int(input(\"Enter the total number of movements: \"))\n",
        "path = []\n",
        "for _ in range(numberofmovements):\n",
        "    move = input(\"Enter movement direction and the number of steps: \")\n",
        "    path.append(move)\n",
        "\n",
        "print(\"The distance from starting point (0,0) is: \", calculatedistance(path))"
      ]
    },
    {
      "cell_type": "markdown",
      "metadata": {
        "id": "sdiBvpJMb1ae"
      },
      "source": [
        "### Task 2"
      ]
    },
    {
      "cell_type": "code",
      "execution_count": 9,
      "metadata": {
        "colab": {
          "base_uri": "https://localhost:8080/"
        },
        "id": "4cp8Jm0_b3dW",
        "outputId": "8d29f836-b86b-4ce9-a5d3-19bbb6f370d8"
      },
      "outputs": [
        {
          "name": "stdout",
          "output_type": "stream",
          "text": [
            "Matrix: \n",
            " [[0 1 1 1]\n",
            " [0 1 1 0]\n",
            " [0 0 1 0]\n",
            " [1 0 1 1]]\n",
            "Number of 1s:  9\n"
          ]
        }
      ],
      "source": [
        "import numpy as np\n",
        "\n",
        "M = np.random.randint(1, 101, size=(4, 4))\n",
        "M = np.where(M > 50, 1, 0)\n",
        "numberofones = np.sum(M)\n",
        "\n",
        "print(\"Matrix: \\n\", M)\n",
        "print(\"Number of 1s: \", numberofones)"
      ]
    },
    {
      "cell_type": "markdown",
      "metadata": {
        "id": "jCW3nSLQc25T"
      },
      "source": [
        "### Task 3"
      ]
    },
    {
      "cell_type": "code",
      "execution_count": 27,
      "metadata": {
        "colab": {
          "base_uri": "https://localhost:8080/"
        },
        "id": "r11lD2M2dHRy",
        "outputId": "e1979c91-5413-4d69-d760-2004a70222ac"
      },
      "outputs": [
        {
          "data": {
            "text/plain": [
              "{16, 25, 36, 64, 144, 256, 400, 900, 10000}"
            ]
          },
          "execution_count": 27,
          "metadata": {},
          "output_type": "execute_result"
        }
      ],
      "source": [
        "import re\n",
        "import math\n",
        "\n",
        "def searchandsortsquares(filename):\n",
        "    perfect_squares = set()\n",
        "    try:\n",
        "        with open(filename, 'r') as file:\n",
        "            for line in file:\n",
        "                match = re.match(r'^\\d+$', line.strip())\n",
        "                if match:\n",
        "                    num = int(line.strip())\n",
        "                    if num >= 0:\n",
        "                      if is_perfect_square := (lambda n: (int(math.sqrt(n))**2) == n)(num):\n",
        "                        perfect_squares.add(num)\n",
        "    except FileNotFoundError:\n",
        "        print(f\"Error: File '{filename}' not found.\")\n",
        "    return perfect_squares\n",
        "\n",
        "result = searchandsortsquares('/task3_input.txt')\n",
        "result"
      ]
    },
    {
      "cell_type": "markdown",
      "metadata": {
        "id": "OOyeA8y4fhy-"
      },
      "source": [
        "### Task 4"
      ]
    },
    {
      "cell_type": "code",
      "execution_count": 1,
      "metadata": {
        "colab": {
          "base_uri": "https://localhost:8080/",
          "height": 241
        },
        "id": "0iBmoTijfjzf",
        "outputId": "c5fd4c65-4579-4c29-ac5c-5c8070087a96"
      },
      "outputs": [
        {
          "data": {
            "text/plain": [
              "0    e\n",
              "1    c\n",
              "2    d\n",
              "3    h\n",
              "4    d\n",
              "dtype: object"
            ]
          },
          "execution_count": 1,
          "metadata": {},
          "output_type": "execute_result"
        }
      ],
      "source": [
        "import pandas as pd\n",
        "import numpy as np\n",
        "\n",
        "def findcolumn(df):\n",
        "    columns = []\n",
        "    for index, rownumber in df.iterrows():\n",
        "        indexes = np.where(pd.isna(rownumber))[0]\n",
        "        if len(indexes) >= 3:\n",
        "            columns.append(df.columns[indexes[2]])\n",
        "        else:\n",
        "            columns.append(np.nan)\n",
        "    return pd.Series(columns, index=df.index)\n",
        "\n",
        "data = {'a': [0.04, np.nan, np.nan, 0.49, np.nan],\n",
        "        'b': [np.nan, np.nan, np.nan, np.nan, np.nan],\n",
        "        'c': [np.nan, np.nan, 0.50, np.nan, 0.41],\n",
        "        'd': [0.25, 0.04, np.nan, 0.62, np.nan],\n",
        "        'e': [np.nan, 0.76, 0.31, 0.73, 0.05],\n",
        "        'f': [0.43, np.nan, 0.40, 0.26, np.nan],\n",
        "        'g': [0.71, np.nan, np.nan, 0.85, 0.61],\n",
        "        'h': [0.51, 0.67, np.nan, np.nan, np.nan],\n",
        "        'i': [np.nan, 0.76, 0.24, np.nan, 0.48],\n",
        "        'j': [np.nan, 0.16, 0.01, np.nan, 0.68]}\n",
        "\n",
        "df = pd.DataFrame(data)\n",
        "\n",
        "result_series = findcolumn(df)\n",
        "result_series"
      ]
    },
    {
      "cell_type": "markdown",
      "metadata": {
        "id": "wK2L33x1iNnY"
      },
      "source": [
        "### Task 5"
      ]
    },
    {
      "cell_type": "code",
      "execution_count": 35,
      "metadata": {
        "colab": {
          "base_uri": "https://localhost:8080/"
        },
        "id": "0i02pqXbiO7D",
        "outputId": "aba5bbf7-9630-4fa3-b488-b2817dbae2bf"
      },
      "outputs": [
        {
          "name": "stdout",
          "output_type": "stream",
          "text": [
            "Array 1: \n",
            " [[ 5 17  9 28 20 14 12]\n",
            " [21  8 30 19 28  5 15]\n",
            " [18 20 20 19 20 20 15]\n",
            " [21 26 19 24 27  9  6]]\n",
            "\n",
            "Array 2: \n",
            " [[ 7 21 19  6 13 30 10]\n",
            " [28 15 26 14 11 14 18]\n",
            " [14 13 24 12 26 26  5]\n",
            " [14  5  6  9  5 28  8]]\n",
            "\n",
            "Array 1 type: int64\n",
            "\n",
            "Array 1 shape: (4, 7)\n",
            "\n",
            "Array 1: \n",
            " [[ 5. 17.  9. 28. 20. 14. 12.]\n",
            " [21.  8. 30. 19. 28.  5. nan]\n",
            " [18. 20. 20. 19. 20. 20. nan]\n",
            " [21. 26. 19. 24. 27.  9.  6.]]\n",
            "\n",
            "Array 1: \n",
            " [[ 5. 17.  9. 28. 20. 14. 12.]\n",
            " [21.  8. 30. 19. 28.  5. 15.]\n",
            " [18. 20. 20. 19. 20. 20. 30.]\n",
            " [21. 26. 19. 24. 27.  9.  6.]]\n",
            "\n",
            "Unique values and their counts in array1:\n",
            "5.0: 2\n",
            "6.0: 1\n",
            "8.0: 1\n",
            "9.0: 2\n",
            "12.0: 1\n",
            "14.0: 1\n",
            "15.0: 1\n",
            "17.0: 1\n",
            "18.0: 1\n",
            "19.0: 3\n",
            "20.0: 5\n",
            "21.0: 2\n",
            "24.0: 1\n",
            "26.0: 1\n",
            "27.0: 1\n",
            "28.0: 2\n",
            "30.0: 2\n",
            "\n",
            "Array 1 sorted by the last column:\n",
            " [[21. 26. 19. 24. 27.  9.  6.]\n",
            " [ 5. 17.  9. 28. 20. 14. 12.]\n",
            " [21.  8. 30. 19. 28.  5. 15.]\n",
            " [18. 20. 20. 19. 20. 20. 30.]]\n",
            "\n",
            "Array 1: \n",
            " [[21. 26. 19. 24. nan nan nan]\n",
            " [nan 17. nan nan 20. nan nan]\n",
            " [21. nan nan 19. nan nan 15.]\n",
            " [18. 20. 20. 19. 20. 20. nan]]\n",
            "\n",
            "Array 1: \n",
            " [[21. 26. 19. 24.  0.  0.  0.]\n",
            " [ 0. 17.  0.  0. 20.  0.  0.]\n",
            " [21.  0.  0. 19.  0.  0. 15.]\n",
            " [18. 20. 20. 19. 20. 20.  0.]]\n",
            "\n",
            "Sum of elements in array1 after clipping and replacing NaN with 0: 299.0\n"
          ]
        }
      ],
      "source": [
        "import numpy as np\n",
        "\n",
        "array1 = np.random.randint(5, 31, size=(4, 7))\n",
        "array2 = np.random.randint(5, 31, size=(4, 7))\n",
        "\n",
        "print(\"Array 1: \\n\", array1)\n",
        "print(\"\\nArray 2: \\n\", array2)\n",
        "\n",
        "print(\"\\nArray 1 type:\", array1.dtype)\n",
        "print(\"\\nArray 1 shape:\", array1.shape)\n",
        "\n",
        "array1 = np.where(array1 == 15, np.nan, array1)\n",
        "\n",
        "print(\"\\nArray 1: \\n\", array1)\n",
        "\n",
        "array1 = np.where(np.isnan(array1), np.random.randint(5, 31, size=array1.shape), array1)\n",
        "\n",
        "print(\"\\nArray 1: \\n\", array1)\n",
        "\n",
        "values, occurrences = np.unique(array1, return_counts=True)\n",
        "print(\"\\nUnique values and their counts in array1:\")\n",
        "for i in range(len(values)):\n",
        "    print(f\"{values[i]}: {occurrences[i]}\")\n",
        "\n",
        "array1 = array1[array1[:, -1].argsort()]\n",
        "print(\"\\nArray 1 sorted by the last column:\\n\", array1)\n",
        "\n",
        "array1 = np.where((array1 < 15) | (array1 > 26), np.nan, array1)\n",
        "\n",
        "print(\"\\nArray 1: \\n\", array1)\n",
        "\n",
        "array1 = np.nan_to_num(array1, nan=0)\n",
        "\n",
        "print(\"\\nArray 1: \\n\", array1)\n",
        "\n",
        "sum_of_elements = np.sum(array1)\n",
        "\n",
        "print(\"\\nSum of elements in array1 after clipping and replacing NaN with 0:\", sum_of_elements)"
      ]
    },
    {
      "cell_type": "markdown",
      "metadata": {
        "id": "NBuT-c4KmKbi"
      },
      "source": [
        "### Task 6"
      ]
    },
    {
      "cell_type": "code",
      "execution_count": 8,
      "metadata": {
        "colab": {
          "base_uri": "https://localhost:8080/",
          "height": 1000
        },
        "id": "WeVqvCWTmfTC",
        "outputId": "2794f469-c5b8-4e89-b822-0b9472a35045"
      },
      "outputs": [
        {
          "name": "stdout",
          "output_type": "stream",
          "text": [
            "\n",
            "Average rent by BHK and Bathroom:\n",
            "    BHK  Bathroom           Rent\n",
            "0     1         1   12115.252465\n",
            "1     1         2   26285.959732\n",
            "2     1         3   29500.000000\n",
            "3     1         4   40000.000000\n",
            "4     1        10  200000.000000\n",
            "5     2         1   11139.846154\n",
            "6     2         2   24128.808535\n",
            "7     2         3   40292.452830\n",
            "8     2         4  100000.000000\n",
            "9     3         1   13598.900000\n",
            "10    3         2   29396.605797\n",
            "11    3         3   64002.790030\n",
            "12    3         4  141888.888889\n",
            "13    3         5  122666.666667\n",
            "14    3         6   20000.000000\n",
            "15    4         1   13000.000000\n",
            "16    4         2   21184.692308\n",
            "17    4         3   87419.354839\n",
            "18    4         4  184231.578947\n",
            "19    4         5  233625.000000\n",
            "20    4         6  240000.000000\n",
            "21    4         7  150000.000000\n",
            "22    5         2   23750.000000\n",
            "23    5         3   45000.000000\n",
            "24    5         4  253333.333333\n",
            "25    5         5  395833.333333\n",
            "26    5         6   50000.000000\n",
            "27    6         2   20000.000000\n",
            "28    6         4   20000.000000\n",
            "29    6         5  155000.000000\n",
            "30    6         6   70000.000000\n",
            "31    6         7   47500.000000\n",
            "\n",
            "City with highest average rent: Mumbai (85321.20)\n",
            "\n",
            "Top 5 localities with highest average rent per sq ft:\n",
            "Area Locality\n",
            "Lal Darwaza                     1000.000000\n",
            "Vettuvankeni                     631.578947\n",
            "Ghatkesar, NH 2 2                506.508296\n",
            "Panchsheel Park                  500.000000\n",
            "Mandakini Enclave, Alaknanda     450.000000\n",
            "Name: Rent per sq ft, dtype: float64\n",
            "\n",
            "Number of unfurnished houses: 1815\n",
            "\n",
            "\n"
          ]
        },
        {
          "data": {
            "image/png": "[encoded data removed]",
            "text/plain": [
              "<Figure size 800x600 with 1 Axes>"
            ]
          },
          "metadata": {},
          "output_type": "display_data"
        }
      ],
      "source": [
        "import pandas as pd\n",
        "import matplotlib.pyplot as plt\n",
        "import seaborn as sns\n",
        "\n",
        "df = pd.read_csv(\"/House_Rent_Dataset.csv\")\n",
        "\n",
        "numcols = df.select_dtypes(include=['number']).columns\n",
        "for col in numcols:\n",
        "    df[col] = df[col].fillna(df[col].mean())\n",
        "\n",
        "avgrentbybhkbath = df.groupby(['BHK', 'Bathroom'])['Rent'].mean().reset_index()\n",
        "print(\"\\nAverage rent by BHK and Bathroom:\")\n",
        "print(avgrentbybhkbath)\n",
        "\n",
        "avgrentcity = df.groupby(\"City\")[\"Rent\"].mean()\n",
        "maxrentcity = avgrentcity.idxmax()\n",
        "maxrentval = avgrentcity.max()\n",
        "print(f\"\\nCity with highest average rent: {maxrentcity} ({maxrentval:.2f})\")\n",
        "\n",
        "df['Rent per sq ft'] = df['Rent'] / df['Size']\n",
        "topareas = df.groupby('Area Locality')['Rent per sq ft'].mean().nlargest(5)\n",
        "print(f\"\\nTop 5 localities with highest average rent per sq ft:\\n{topareas}\")\n",
        "\n",
        "unfurnished = df[df['Furnishing Status'] == 'Unfurnished'].shape[0]\n",
        "print(f\"\\nNumber of unfurnished houses: {unfurnished}\\n\\n\")\n",
        "\n",
        "plt.figure(figsize=(8, 6))\n",
        "sns.barplot(x='Furnishing Status', y='Rent', data=df)\n",
        "plt.title('Average Rent by Furnishing Status')\n",
        "plt.xlabel('Furnishing Status')\n",
        "plt.ylabel('Average Rent')\n",
        "plt.show()"
      ]
    }
  ],
  "metadata": {
    "colab": {
      "provenance": []
    },
    "kernelspec": {
      "display_name": "Python 3",
      "name": "python3"
    },
    "language_info": {
      "codemirror_mode": {
        "name": "ipython",
        "version": 3
      },
      "file_extension": ".py",
      "mimetype": "text/x-python",
      "name": "python",
      "nbconvert_exporter": "python",
      "pygments_lexer": "ipython3",
      "version": "3.9.13"
    }
  },
  "nbformat": 4,
  "nbformat_minor": 0
}
