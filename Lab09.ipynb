{
  "cells": [
    {
      "cell_type": "markdown",
      "id": "01ad7c32",
      "metadata": {
        "id": "01ad7c32"
      },
      "source": [
        "## Game Setup"
      ]
    },
    {
      "cell_type": "markdown",
      "id": "fdb39e84",
      "metadata": {
        "id": "fdb39e84"
      },
      "source": [
        "# Nim Game with Minimax\n",
        "This notebook provides a basic structure. Your task is to complete the game logic and the Minimax AI."
      ]
    },
    {
      "cell_type": "code",
      "execution_count": 1,
      "id": "62683279",
      "metadata": {
        "id": "62683279"
      },
      "outputs": [],
      "source": [
        "\n",
        "def initialize_game():\n",
        "    \"\"\"Initialize the piles with 3, 4, and 5 sticks.\"\"\"\n",
        "    \n",
        "    return [3, 4, 5]\n"
      ]
    },
    {
      "cell_type": "markdown",
      "id": "2d35f899",
      "metadata": {
        "id": "2d35f899"
      },
      "source": [
        "## Functions"
      ]
    },
    {
      "cell_type": "code",
      "execution_count": null,
      "id": "dd3b6a09",
      "metadata": {
        "id": "dd3b6a09"
      },
      "outputs": [],
      "source": [
        "\n",
        "def is_terminal(piles):\n",
        "    \"\"\"Check if the game has ended (no sticks left).\"\"\"\n",
        "    # TODO: Return True if all piles are empty and print them\n",
        "        \n",
        "    return all([pile == 0 for pile in piles])\n"
      ]
    },
    {
      "cell_type": "code",
      "execution_count": null,
      "id": "20563a1f",
      "metadata": {
        "id": "20563a1f"
      },
      "outputs": [],
      "source": [
        "\n",
        "def get_valid_moves(piles):\n",
        "    \"\"\"Return all valid moves as (pile_index, num_to_remove) pairs.\"\"\"\n",
        "    # TODO: Generate a list of valid moves\n",
        "    \n",
        "    valid_moves = []\n",
        "    for i, pile in enumerate(piles):\n",
        "        if pile > 0:  \n",
        "            for num_to_remove in range(1, pile + 1):\n",
        "                valid_moves.append((i, num_to_remove))\n",
        "                    \n",
        "    return valid_moves\n"
      ]
    },
    {
      "cell_type": "code",
      "execution_count": null,
      "id": "1c1c5f4d",
      "metadata": {
        "id": "1c1c5f4d"
      },
      "outputs": [],
      "source": [
        "\n",
        "def apply_move(piles, pile_index, num_to_remove):\n",
        "    \"\"\"Return a new list of piles after applying a move.\"\"\"\n",
        "    # TODO: Copy piles and apply the move\n",
        "       \n",
        "    new_piles = piles.copy()  \n",
        "    new_piles[pile_index] -= num_to_remove \n",
        "    return new_piles\n"
      ]
    },
    {
      "cell_type": "code",
      "execution_count": 5,
      "id": "e1498086",
      "metadata": {
        "id": "e1498086"
      },
      "outputs": [],
      "source": [
        "\n",
        "def minimax(piles, is_maximizing):\n",
        "    \"\"\"Minimax recursive algorithm to determine best score.\"\"\"\n",
        "    # TODO: Base case for terminal state\n",
        "    # TODO: Recursive call for maximizing and minimizing player\n",
        "    \n",
        "    if is_terminal(piles):\n",
        "        # If the game is over, return the score\n",
        "        return -1 if is_maximizing else 1\n",
        "\n",
        "    if is_maximizing:\n",
        "        best_score = float('-inf')  \n",
        "        for pile_index, num_to_remove in get_valid_moves(piles):\n",
        "            new_piles = apply_move(piles, pile_index, num_to_remove)\n",
        "            score = minimax(new_piles, False) \n",
        "            best_score = max(best_score, score)\n",
        "        return best_score\n",
        "    else:\n",
        "        best_score = float('inf')  \n",
        "        for pile_index, num_to_remove in get_valid_moves(piles):\n",
        "            new_piles = apply_move(piles, pile_index, num_to_remove)\n",
        "            score = minimax(new_piles, True)  \n",
        "            best_score = min(best_score, score)\n",
        "        return best_score\n"
      ]
    },
    {
      "cell_type": "code",
      "execution_count": 6,
      "id": "3144b1da",
      "metadata": {
        "id": "3144b1da"
      },
      "outputs": [],
      "source": [
        "\n",
        "def find_best_move(piles):\n",
        "    \"\"\"Return the best move for the AI using Minimax.\"\"\"\n",
        "    # TODO: Evaluate all valid moves using Minimax\n",
        "    \n",
        "    best_score = float('-inf')\n",
        "    best_move = None\n",
        "    for pile_index, num_to_remove in get_valid_moves(piles):\n",
        "        new_piles = apply_move(piles, pile_index, num_to_remove)\n",
        "        score = minimax(new_piles, False)  \n",
        "        if score > best_score:\n",
        "            best_score = score\n",
        "            best_move = (pile_index, num_to_remove)\n",
        "    return best_move\n"
      ]
    },
    {
      "cell_type": "code",
      "execution_count": 7,
      "id": "dcb3b500",
      "metadata": {
        "id": "dcb3b500"
      },
      "outputs": [],
      "source": [
        "\n",
        "def get_human_move(piles):\n",
        "    \"\"\"Get a valid move from the human player.\"\"\"\n",
        "    # TODO: Prompt user, validate input, and return move\n",
        "    \n",
        "    while True:\n",
        "        try:\n",
        "            pile_index = int(input(\"Choose a pile (1-3): \")) - 1  \n",
        "            if pile_index < 0 or pile_index >= len(piles) or piles[pile_index] == 0:\n",
        "                print(\"Invalid pile. Please choose a valid pile.\")\n",
        "                continue\n",
        "            num_to_remove = int(input(f\"How many sticks to remove from pile {pile_index + 1}? \"))\n",
        "            if num_to_remove < 1 or num_to_remove > piles[pile_index]:\n",
        "                print(\"Invalid number of sticks. Please choose a valid number.\")\n",
        "                continue\n",
        "            return pile_index, num_to_remove\n",
        "        except ValueError:\n",
        "            print(\"Invalid input. Please enter a number.\")\n"
      ]
    },
    {
      "cell_type": "code",
      "execution_count": 8,
      "id": "e701b833",
      "metadata": {
        "id": "e701b833"
      },
      "outputs": [],
      "source": [
        "\n",
        "def game_loop():\n",
        "    \"\"\"Main game loop where human and AI take turns.\"\"\"\n",
        "    piles = initialize_game()\n",
        "    current_player = \"HUMAN\"\n",
        "\n",
        "    while not is_terminal(piles):\n",
        "        print(f\"Piles: {piles}\")\n",
        "        if current_player == \"HUMAN\":\n",
        "            pile, amount = get_human_move(piles)\n",
        "        else:\n",
        "            print(\"AI is thinking...\")\n",
        "            pile, amount = find_best_move(piles)\n",
        "            print(f\"AI removes {amount} from pile {pile+1}\")\n",
        "\n",
        "        piles = apply_move(piles, pile, amount)\n",
        "        current_player = \"AI\" if current_player == \"HUMAN\" else \"HUMAN\"\n",
        "\n",
        "    print(f\"Game over! {current_player} loses.\")\n"
      ]
    },
    {
      "cell_type": "code",
      "execution_count": 12,
      "id": "884f89e6",
      "metadata": {
        "id": "884f89e6"
      },
      "outputs": [
        {
          "name": "stdout",
          "output_type": "stream",
          "text": [
            "Piles: [3, 4, 5]\n",
            "Piles: [0, 4, 5]\n",
            "AI is thinking...\n",
            "AI removes 1 from pile 3\n",
            "Piles: [0, 4, 4]\n",
            "Piles: [0, 1, 4]\n",
            "AI is thinking...\n",
            "AI removes 3 from pile 3\n",
            "Piles: [0, 1, 1]\n",
            "Invalid pile. Please choose a valid pile.\n",
            "Invalid number of sticks. Please choose a valid number.\n",
            "Invalid number of sticks. Please choose a valid number.\n",
            "Piles: [0, 1, 0]\n",
            "AI is thinking...\n",
            "AI removes 1 from pile 2\n",
            "Game over! HUMAN loses.\n"
          ]
        }
      ],
      "source": [
        "\n",
        "# Run the game\n",
        "game_loop()\n"
      ]
    }
  ],
  "metadata": {
    "colab": {
      "provenance": []
    },
    "kernelspec": {
      "display_name": "Python 3",
      "name": "python3"
    },
    "language_info": {
      "codemirror_mode": {
        "name": "ipython",
        "version": 3
      },
      "file_extension": ".py",
      "mimetype": "text/x-python",
      "name": "python",
      "nbconvert_exporter": "python",
      "pygments_lexer": "ipython3",
      "version": "3.9.13"
    }
  },
  "nbformat": 4,
  "nbformat_minor": 5
}
