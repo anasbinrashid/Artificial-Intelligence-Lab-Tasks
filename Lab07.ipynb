{
  "cells": [
    {
      "cell_type": "markdown",
      "metadata": {
        "id": "UJzKHAqXUkmT"
      },
      "source": [
        "# Lab 7 (Genetic Algorithm )\n"
      ]
    },
    {
      "cell_type": "markdown",
      "metadata": {
        "id": "d2UJ38P5Ukmf"
      },
      "source": [
        "## Lab Task 1: KnapSack Problem"
      ]
    },
    {
      "cell_type": "code",
      "execution_count": 56,
      "metadata": {
        "id": "RsSY-NExs2lL"
      },
      "outputs": [],
      "source": [
        "import random\n",
        "\n",
        "# Problem parameters\n",
        "items = [\n",
        "    {\"name\": \"N1\", \"value\": 14, \"weight\": 1},\n",
        "    {\"name\": \"N2\", \"value\": 23, \"weight\": 3},\n",
        "    {\"name\": \"N3\", \"value\": 8, \"weight\": 7},\n",
        "    {\"name\": \"N4\", \"value\": 9, \"weight\": 4},\n",
        "    {\"name\": \"N5\", \"value\": 17, \"weight\": 5},\n",
        "    {\"name\": \"N6\", \"value\": 15, \"weight\": 6}\n",
        "]\n",
        "max_weight = 10\n",
        "population_size = 10\n",
        "mutation_rate = 0.1\n",
        "generations = 50\n"
      ]
    },
    {
      "cell_type": "code",
      "execution_count": 55,
      "metadata": {
        "id": "gHplnTHftrpI"
      },
      "outputs": [],
      "source": [
        "# Initialize population\n",
        "def initialize_population():\n",
        "    \"\"\"Generate an initial population of random solutions.\"\"\"\n",
        "\n",
        "    print(\"Population: \")\n",
        "\n",
        "    population = []\n",
        "    for _ in range(population_size):\n",
        "        chromosome = []\n",
        "        for _ in range(len(items)):\n",
        "            allele = random.randint(0, 1)\n",
        "            chromosome.append(allele)\n",
        "        population.append(chromosome)\n",
        "        print(chromosome)\n",
        "\n",
        "    return population\n"
      ]
    },
    {
      "cell_type": "code",
      "execution_count": 66,
      "metadata": {
        "id": "NIUXn1DitrsI"
      },
      "outputs": [],
      "source": [
        "# Fitness function\n",
        "def fitness(individual):\n",
        "    \"\"\"Calculate total value while ensuring weight does not exceed max limit.\"\"\"\n",
        "\n",
        "    total_value = 0\n",
        "    total_weight = 0\n",
        "\n",
        "    for i in range (len(individual)):\n",
        "        if individual[i] == 1:\n",
        "            total_value += items[i][\"value\"]\n",
        "            total_weight += items[i][\"weight\"]\n",
        "\n",
        "    if total_weight > max_weight:\n",
        "        return total_value-total_weight\n",
        "    else:\n",
        "        return total_value\n",
        "\n",
        "\n"
      ]
    },
    {
      "cell_type": "code",
      "execution_count": 96,
      "metadata": {
        "id": "8x_B0ZKqtruc"
      },
      "outputs": [],
      "source": [
        "# Selection\n",
        "def selection(population):\n",
        "    \"\"\"Select individuals based on fitness proportion using tournament selection.\"\"\"\n",
        "\n",
        "    tournament_size = 2\n",
        "    tournament = random.sample(population, tournament_size)\n",
        "\n",
        "    return max(tournament, key=fitness)\n"
      ]
    },
    {
      "cell_type": "code",
      "source": [
        "# Crossover\n",
        "def crossover(parent1, parent2):\n",
        "    \"\"\"Perform crossover between two parents.\"\"\"\n",
        "\n",
        "    child1=[]\n",
        "    child2=[]\n",
        "\n",
        "    for i in range(len(parent1)):\n",
        "        if i%2==0:\n",
        "            child1.append(parent1[i])\n",
        "            child2.append(parent2[i])\n",
        "        else:\n",
        "            child1.append(parent2[i])\n",
        "            child2.append(parent1[i])\n",
        "\n",
        "    return child1, child2"
      ],
      "metadata": {
        "id": "FFYBiIQZNXVZ"
      },
      "execution_count": 102,
      "outputs": []
    },
    {
      "cell_type": "code",
      "execution_count": 103,
      "metadata": {
        "id": "NoF50GQMtrzW"
      },
      "outputs": [],
      "source": [
        "# Mutation\n",
        "def mutate(individual):\n",
        "    \"\"\"Apply mutation by flipping a random bit with a probability.\"\"\"\n",
        "\n",
        "    for i in range(len(individual)):\n",
        "        if random.randint(0, 1) < mutation_rate:\n",
        "            individual[i] = 1 - individual[i]\n",
        "\n",
        "    return individual\n"
      ]
    },
    {
      "cell_type": "code",
      "execution_count": 112,
      "metadata": {
        "id": "He718-I6WVgT"
      },
      "outputs": [],
      "source": [
        "# Replacement\n",
        "def replace_population(population, new_population):\n",
        "    \"\"\"Replace the weakest individuals with new offspring.\"\"\"\n",
        "\n",
        "    new_population.sort(key=fitness, reverse=True)\n",
        "    overweight_individuals = [individual for individual in population if sum(item[\"weight\"] for i, item in enumerate(items) if individual[i] == 1) > max_weight]\n",
        "\n",
        "    if overweight_individuals:\n",
        "        for i in range(min(len(overweight_individuals), len(new_population))):\n",
        "            population.remove(overweight_individuals[i])\n",
        "            population.append(new_population[i])\n",
        "    else:\n",
        "        population.sort(key=fitness)\n",
        "\n",
        "        valid_offspring = [ind for ind in new_population if sum(item[\"weight\"] for i, item in enumerate(items) if ind[i] == 1) <= max_weight]\n",
        "\n",
        "        if len(valid_offspring) >= 2:\n",
        "            population[:2] = valid_offspring[:2]\n",
        "\n",
        "    return population"
      ]
    },
    {
      "cell_type": "code",
      "execution_count": 116,
      "metadata": {
        "id": "lSMf7IOLWYld",
        "colab": {
          "base_uri": "https://localhost:8080/"
        },
        "outputId": "d3411428-c2a6-4ba8-e580-b49bcf378502"
      },
      "outputs": [
        {
          "output_type": "stream",
          "name": "stdout",
          "text": [
            "Population: \n",
            "[0, 0, 1, 0, 0, 0]\n",
            "[0, 0, 1, 1, 1, 0]\n",
            "[1, 1, 1, 0, 0, 0]\n",
            "[0, 0, 0, 1, 0, 0]\n",
            "[1, 1, 0, 0, 0, 1]\n",
            "[1, 1, 1, 0, 0, 1]\n",
            "[1, 0, 1, 1, 1, 1]\n",
            "[0, 1, 0, 1, 0, 0]\n",
            "[0, 1, 0, 1, 1, 1]\n",
            "[0, 0, 0, 1, 1, 1]\n",
            "Best Solution: [1, 1, 0, 0, 1, 0]\n",
            "Total Value: 54\n",
            "Total Weight: 9\n"
          ]
        }
      ],
      "source": [
        "# Genetic Algorithm Execution\n",
        "def genetic_algorithm():\n",
        "    \"\"\"Run the genetic algorithm.\"\"\"\n",
        "\n",
        "    population = initialize_population()\n",
        "\n",
        "    for _ in range(generations):\n",
        "        new_population = []\n",
        "        for _ in range(population_size // 2):\n",
        "            parent1 = selection(population)\n",
        "            parent2 = selection(population)\n",
        "            child1, child2 = crossover(parent1, parent2)\n",
        "            new_population.extend([mutate(child1), mutate(child2)])\n",
        "\n",
        "        population = replace_population(population, new_population)\n",
        "\n",
        "    best_solution = max(population, key=fitness)\n",
        "    print(f\"Best Solution: {best_solution}\")\n",
        "\n",
        "    return best_solution\n",
        "\n",
        "solution = genetic_algorithm()\n",
        "\n",
        "total_value = 0\n",
        "total_weight = 0\n",
        "\n",
        "for i in range (len(solution)):\n",
        "    if solution[i] == 1:\n",
        "        total_value += items[i][\"value\"]\n",
        "        total_weight += items[i][\"weight\"]\n",
        "if total_weight > max_weight:\n",
        "    total_value -= (total_weight)\n",
        "\n",
        "print(f\"Total Value: {total_value}\")\n",
        "print(f\"Total Weight: {total_weight}\")"
      ]
    }
  ],
  "metadata": {
    "colab": {
      "provenance": []
    },
    "kernelspec": {
      "display_name": "Python 3",
      "name": "python3"
    },
    "language_info": {
      "name": "python"
    }
  },
  "nbformat": 4,
  "nbformat_minor": 0
}