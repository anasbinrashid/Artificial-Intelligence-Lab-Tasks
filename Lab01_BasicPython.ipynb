{
  "nbformat": 4,
  "nbformat_minor": 0,
  "metadata": {
    "colab": {
      "provenance": []
    },
    "kernelspec": {
      "name": "python3",
      "display_name": "Python 3"
    },
    "language_info": {
      "name": "python"
    }
  },
  "cells": [
    {
      "cell_type": "markdown",
      "source": [
        "# Anas Bin Rashid\n",
        "# 22I-0907 CS-6A\n",
        "## Task 1"
      ],
      "metadata": {
        "id": "F-sOnjStZNFe"
      }
    },
    {
      "cell_type": "code",
      "source": [
        "ctemp = float(input('Enter temperature in Celsius: '))\n",
        "ftemp = (9/5 * ctemp) + 32\n",
        "print('The temperature in Fahrenheit is: ', ftemp)"
      ],
      "metadata": {
        "colab": {
          "base_uri": "https://localhost:8080/"
        },
        "id": "nCuPxeS6ZSfY",
        "outputId": "57035773-4f5c-4d58-f214-36036b605b18"
      },
      "execution_count": 2,
      "outputs": [
        {
          "output_type": "stream",
          "name": "stdout",
          "text": [
            "Enter temperature in Celsius: 37\n",
            "The temperature in Fahrenheit is:  98.60000000000001\n"
          ]
        }
      ]
    },
    {
      "cell_type": "markdown",
      "source": [
        "## Task 2"
      ],
      "metadata": {
        "id": "DzQmQZBhZWrw"
      }
    },
    {
      "cell_type": "code",
      "source": [
        "keys = ['name', 'age', 'grade']\n",
        "values = ['Ali', 20, 'A']\n",
        "\n",
        "dictionary = {}\n",
        "\n",
        "for i in range (len(keys)):\n",
        "    dictionary[keys[i]] = values[i]\n",
        "\n",
        "print(dictionary)"
      ],
      "metadata": {
        "colab": {
          "base_uri": "https://localhost:8080/"
        },
        "id": "RWdlG5EoZazY",
        "outputId": "0ac55e2e-dcee-40d8-d16e-c1d8362a301d"
      },
      "execution_count": 3,
      "outputs": [
        {
          "output_type": "stream",
          "name": "stdout",
          "text": [
            "{'name': 'Ali', 'age': 20, 'grade': 'A'}\n"
          ]
        }
      ]
    },
    {
      "cell_type": "markdown",
      "source": [
        "## Task 3"
      ],
      "metadata": {
        "id": "CGe1bbi1Zd9I"
      }
    },
    {
      "cell_type": "code",
      "source": [
        "def function(numbers):\n",
        "    average = (sum(numbers))/(len(numbers))\n",
        "    if(average < 40):\n",
        "        return (sum(numbers))\n",
        "    else:\n",
        "        return (max(numbers))\n",
        "\n",
        "count = int(input(\"How many numbers do you want to enter: \"))\n",
        "listofnumbers = []\n",
        "\n",
        "for i in range (count):\n",
        "    number = float(input(\"Enter number: \"))\n",
        "    listofnumbers.append(number)\n",
        "\n",
        "result = function(listofnumbers)\n",
        "\n",
        "print(result)"
      ],
      "metadata": {
        "colab": {
          "base_uri": "https://localhost:8080/"
        },
        "id": "hN3LuUa9Zg96",
        "outputId": "c72a61f8-1feb-4d94-b187-2ab31c3cde43"
      },
      "execution_count": 6,
      "outputs": [
        {
          "output_type": "stream",
          "name": "stdout",
          "text": [
            "How many numbers do you want to enter: 3\n",
            "Enter number: 1\n",
            "Enter number: 2\n",
            "Enter number: 3\n",
            "6.0\n"
          ]
        }
      ]
    },
    {
      "cell_type": "markdown",
      "source": [
        "## Task 4"
      ],
      "metadata": {
        "id": "PMo58cTPaG7g"
      }
    },
    {
      "cell_type": "code",
      "source": [
        "givenlist = [[[1, 2, 3], [4, 5]], 6]\n",
        "\n",
        "def listflatter(numbers):\n",
        "  flatlist = []\n",
        "  for i in numbers:\n",
        "      if isinstance(i, list):\n",
        "          flatlist.extend(listflatter(i))\n",
        "      else:\n",
        "          flatlist.append(i)\n",
        "  return flatlist\n",
        "\n",
        "flat = listflatter(givenlist)\n",
        "print(flat)"
      ],
      "metadata": {
        "colab": {
          "base_uri": "https://localhost:8080/"
        },
        "id": "UfiHxzS0bMQo",
        "outputId": "e77c8a2c-ab4c-4820-a84a-14b417f75bc7"
      },
      "execution_count": 28,
      "outputs": [
        {
          "output_type": "stream",
          "name": "stdout",
          "text": [
            "[1, 2, 3, 4, 5, 6]\n"
          ]
        }
      ]
    },
    {
      "cell_type": "markdown",
      "source": [
        "## Task 5"
      ],
      "metadata": {
        "id": "KMSlLSnbaqMw"
      }
    },
    {
      "cell_type": "code",
      "source": [
        "last = int(input(\"Enter the last number: \"))\n",
        "\n",
        "print(\"Even numbers from 1 to\", last, \"are:\")\n",
        "\n",
        "for i in range(1, last+1):\n",
        "    if i % 2 == 0:\n",
        "        print(i)\n"
      ],
      "metadata": {
        "colab": {
          "base_uri": "https://localhost:8080/"
        },
        "id": "SonwhkFMasrY",
        "outputId": "6323837a-e3db-43ad-c621-a3e71e577489"
      },
      "execution_count": 8,
      "outputs": [
        {
          "output_type": "stream",
          "name": "stdout",
          "text": [
            "Enter the last number: 50\n",
            "Even numbers from 1 to 50 are:\n",
            "2\n",
            "4\n",
            "6\n",
            "8\n",
            "10\n",
            "12\n",
            "14\n",
            "16\n",
            "18\n",
            "20\n",
            "22\n",
            "24\n",
            "26\n",
            "28\n",
            "30\n",
            "32\n",
            "34\n",
            "36\n",
            "38\n",
            "40\n",
            "42\n",
            "44\n",
            "46\n",
            "48\n",
            "50\n"
          ]
        }
      ]
    }
  ]
}
